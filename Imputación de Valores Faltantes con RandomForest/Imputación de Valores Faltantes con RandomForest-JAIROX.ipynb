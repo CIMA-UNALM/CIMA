{
 "cells": [
  {
   "cell_type": "markdown",
   "id": "8dd48ae3",
   "metadata": {},
   "source": [
    "<div style=\"text-align: center;\">   <img alt=\"foto\" height=\"160\" src=\"https://i.postimg.cc/7H7zcX2c/CIMA-LOGO.png?dl=1\" width=\"160\"/>\n",
    "</div>\n"
   ]
  },
  {
   "cell_type": "markdown",
   "id": "c24c3912",
   "metadata": {},
   "source": [
    "<div style=\"text-align: center;\">\n",
    "\n",
    "## Imputación de Valores Faltantes con RandomForest\n",
    "### 1. **Contexto**\n",
    "### 2. **Explicación del Algoritmo MissForest**\n",
    "### 3. **Ejemplo Práctico**\n",
    "### 4. **Comparación con KNN**\n",
    "### 5. **Conclusiones**\n",
    "\n",
    "\n",
    "</div>\n"
   ]
  },
  {
   "cell_type": "markdown",
   "id": "7194f09e",
   "metadata": {},
   "source": [
    "<div style=\"text-align: center;\">\n",
    "\n",
    "----------------------------------------------------------------\n",
    "###### GitHub: [JAIROX2004](https://github.com/JAIROX2004)  \n",
    "###### Linkedin: [Jairo Gonzalo Rojas Melgarejo ](https://www.linkedin.com/in/jairo-gonzalo-rojas-melgarejo-248166239/)\n",
    "###### **Jairo Gonzalo Rojas Melgaraejo**  \n",
    "###### **Estudiante de Estadística e Informática de la UNALM** \n",
    "----------------------------------------------------------------\n",
    "</div>"
   ]
  },
  {
   "cell_type": "markdown",
   "id": "3783c61a",
   "metadata": {},
   "source": [
    "### 1. Contexto\n",
    "\n",
    "La imputación de valores faltantes es un paso crucial en el preprocesamiento de datos. Los valores faltantes pueden surgir por diversas razones, como errores de recolección de datos o problemas en el registro. Estos valores faltantes pueden afectar la calidad del análisis y el rendimiento de los modelos predictivos. Por lo tanto, es importante manejar estos valores de manera adecuada.\n",
    "\n",
    "En este trabajo, exploraremos cómo imputar valores faltantes utilizando el algoritmo MissForest. Este algoritmo, basado en Random Forest, ofrece una metodología robusta para tratar los valores faltantes, especialmente en conjuntos de datos con características mixtas (numéricas y categóricas). Además, compararemos MissForest con el algoritmo KNN (K-Nearest Neighbors) para evaluar cuál es más eficaz en diferentes escenarios.\n",
    "\n",
    "La decisión de imputar valores faltantes depende del porcentaje de datos faltantes en una columna:\n",
    "\n",
    "- **Menos del 5%**: Imputar es generalmente seguro.\n",
    "- **5% - 30%**: Imputar es una opción viable, especialmente si la columna es importante.\n",
    "- **30% - 50%**: Evaluar cuidadosamente si imputar o eliminar; depende del contexto.\n",
    "- **Más del 50%**: Generalmente, es mejor eliminar la columna.\n",
    "\n",
    "Fuentes:     \n",
    "[Data Column Blog - What's Missing? Solving the Missing Values Dilemma](https://datacolumn.iaa.ncsu.edu/blog/2016/02/29/whats-missing-solving-the-missing-values-dilemma/)  \n",
    "         [Missing Data | Types, Explanation, & Imputation](https://www.scribbr.com/statistics/missing-data/)\n",
    "         \n"
   ]
  },
  {
   "cell_type": "markdown",
   "id": "30314c2b",
   "metadata": {},
   "source": [
    "### 2. Explicación del Algoritmo MissForest\n"
   ]
  },
  {
   "cell_type": "markdown",
   "id": "72e1fcf1",
   "metadata": {},
   "source": [
    "<div style=\"text-align: center;\">\n",
    "\n",
    "  ![image.png](rf.jpg)\n",
    "  \n",
    "  <sub>Fuente: <a href=\"https://blogdatlas.wordpress.com/tag/missforest/\">Métodos avanzados para lidiar con datos nulos – Columna de Investigación DATLAS</a></sub>\n",
    "</div>\n"
   ]
  },
  {
   "cell_type": "markdown",
   "id": "92db7c60",
   "metadata": {},
   "source": [
    "El diagrama ilustra un enfoque para imputar valores faltantes en un conjunto de datos utilizando un modelo de **Random Forest**. A continuación se describen los pasos principales:\n",
    "\n",
    "#### **Paso 1: Inicialización**\n",
    "En este paso, se realiza una estimación inicial de los valores faltantes. Los métodos comunes incluyen:\n",
    "- **Media**: Rellenar los valores faltantes con la media de la característica.\n",
    "- **Mediana**: Usar la mediana de la característica.\n",
    "- **Moda**: Aplicar la moda (el valor más frecuente).\n",
    "\n",
    "En la imagen:\n",
    "- Los valores faltantes están representados en **rojo**.\n",
    "- Los valores presentes de otras características están en **verde**.\n",
    "- Los valores presentes en la misma característica están en **azul**.\n",
    "\n",
    "#### **Paso 2: Entrenamiento del Modelo Random Forest**\n",
    "Usando los valores imputados del **Paso 1**, se entrena un modelo de **Random Forest** donde la característica con valores faltantes se convierte en la variable dependiente (variable objetivo). Este modelo aprende a predecir la característica faltante basándose en las otras características del conjunto de datos.\n",
    "\n",
    "#### **Paso 3: Predicción de los Valores Faltantes**\n",
    "El modelo de **Random Forest** predice los valores de la característica que inicialmente tenía datos faltantes. Estas predicciones reemplazan los valores faltantes en el conjunto de datos.\n",
    "\n",
    "#### **Paso 4: Iteración**\n",
    "Este proceso se repite:\n",
    "1. Usando el conjunto de datos con los valores imputados recientemente, se vuelve a entrenar el modelo.\n",
    "2. Se predicen nuevamente los valores faltantes.\n",
    "3. Este ciclo continúa hasta que se alcanza un número máximo de iteraciones o el modelo converge (es decir, las predicciones dejan de cambiar significativamente entre iteraciones).\n",
    "\n",
    "El ciclo de repetición asegura que la imputación de los valores faltantes sea lo más precisa posible, reduciendo el sesgo introducido por la estimación inicial.\n",
    "\n",
    "---\n",
    "\n",
    "#### **Resumen**\n",
    "El proceso combina un enfoque inicial de estimación simple con la robustez de un **Random Forest** para refinar los valores imputados. Este enfoque iterativo mejora la precisión de la imputación, especialmente en conjuntos de datos con relaciones no lineales complejas entre las características.\n"
   ]
  },
  {
   "cell_type": "markdown",
   "id": "7b22c6f7",
   "metadata": {},
   "source": [
    "### 3. Ejemplo Practico\n"
   ]
  },
  {
   "cell_type": "markdown",
   "id": "8f1bae36",
   "metadata": {},
   "source": [
    "#### 3.1. Paquetes"
   ]
  },
  {
   "cell_type": "code",
   "execution_count": 41,
   "id": "f18f48e6",
   "metadata": {},
   "outputs": [],
   "source": [
    "import pandas as pd\n",
    "import numpy as np\n",
    "from sklearn.impute import KNNImputer\n",
    "from sklearn.preprocessing import LabelEncoder\n",
    "import matplotlib.pyplot as plt\n",
    "import seaborn as sns\n",
    "from sklearn.metrics import mean_squared_error\n",
    "from sklearn.ensemble import RandomForestRegressor\n",
    "from sklearn.preprocessing import LabelEncoder\n"
   ]
  },
  {
   "cell_type": "markdown",
   "id": "e706d92b",
   "metadata": {},
   "source": [
    "#### 3.2. Lectura de Datos"
   ]
  },
  {
   "cell_type": "markdown",
   "id": "eb525f00",
   "metadata": {},
   "source": [
    "\n",
    "#### Descripción General del Conjunto de Datos\n",
    "\n",
    "Este conjunto de datos contiene información sobre reservas de hotel, incluyendo diversas características que describen tanto la reserva en sí como el comportamiento del cliente. Algunas de las columnas más relevantes incluyen:\n",
    "\n",
    "- **`hotel`**: Tipo de hotel en el que se realizó la reserva (City Hotel o Resort Hotel).\n",
    "- **`is_canceled`**: Indica si la reserva fue cancelada o no.\n",
    "- **`lead_time`**: Tiempo (en días) entre la fecha de reserva y la fecha de llegada.\n",
    "- **`arrival_date_year`**, **`arrival_date_month`**, **`arrival_date_week_number`**, **`arrival_date_day_of_month`**: Información sobre la fecha de llegada del cliente.\n",
    "- **`stays_in_weekend_nights`**, **`stays_in_week_nights`**: Número de noches de estancia durante el fin de semana y días de semana, respectivamente.\n",
    "- **`adults`**, **`children`**, **`babies`**: Cantidad de adultos, niños y bebés en la reserva.\n",
    "- **`meal`**: Tipo de comida reservada.\n",
    "- **`country`**: País de origen del cliente.\n",
    "- **`market_segment`**, **`distribution_channel`**: Información sobre el segmento de mercado y el canal de distribución de la reserva.\n",
    "- **`agent`**: Identificador del agente que realizó la reserva. Aunque esta columna tiene un **13.69%** de datos faltantes, no se imputarán estos valores, ya que la columna es de identificación y no influye en el análisis analítico principal.\n",
    "- **`company`**: Identificador de la compañía asociada a la reserva, si aplica. Sin embargo, esta columna tiene un **94.31%** de datos faltantes, lo que sugiere que la información no es relevante para la mayoría de las reservas. Por ello, se ha decidido **eliminar esta columna** del análisis para evitar que la alta cantidad de datos faltantes afecte los resultados.\n",
    "\n",
    "Otras columnas incluyen información sobre la habitación reservada, si hubo cambios en la reserva, tipo de depósito, solicitudes especiales, entre otros detalles.\n",
    "\n",
    "Este conjunto de datos es clave para entender los patrones de reservas y cancelaciones, así como para desarrollar modelos predictivos que ayuden a mejorar la gestión hotelera.\n"
   ]
  },
  {
   "cell_type": "code",
   "execution_count": 42,
   "id": "e9f2505a",
   "metadata": {},
   "outputs": [],
   "source": [
    "datos=pd.read_csv(\"archivo_NA.csv\")\n",
    "df=pd.DataFrame(datos)"
   ]
  },
  {
   "cell_type": "markdown",
   "id": "8196358b",
   "metadata": {},
   "source": [
    "#### 3.3 Analísis Exploratorio"
   ]
  },
  {
   "cell_type": "code",
   "execution_count": 43,
   "id": "a14962f2",
   "metadata": {},
   "outputs": [
    {
     "data": {
      "image/png": "[encoded data removed]",
      "text/plain": [
       "<Figure size 800x500 with 2 Axes>"
      ]
     },
     "metadata": {},
     "output_type": "display_data"
    }
   ],
   "source": [
    "# Visualizar valores faltantes usando un mapa de calor\n",
    "plt.figure(figsize=(8, 5))\n",
    "plt.imshow(df.isnull(), aspect='auto', cmap='viridis', interpolation='none')\n",
    "plt.colorbar(label='Valores Faltantes (1: NA, 0: No NA)')\n",
    "plt.xlabel('Columnas')\n",
    "plt.ylabel('Filas')\n",
    "plt.title('Mapa de Calor de Valores Faltantes')\n",
    "plt.show()"
   ]
  },
  {
   "cell_type": "code",
   "execution_count": 44,
   "id": "7c3867bb",
   "metadata": {},
   "outputs": [
    {
     "name": "stdout",
     "output_type": "stream",
     "text": [
      "La columna 'hotel' tiene 0.00% de datos faltantes. El impacto es mínimo.\n",
      "La columna 'is_canceled' tiene 0.00% de datos faltantes. El impacto es mínimo.\n",
      "La columna 'lead_time' tiene 0.00% de datos faltantes. El impacto es mínimo.\n",
      "La columna 'arrival_date_year' tiene 0.00% de datos faltantes. El impacto es mínimo.\n",
      "La columna 'arrival_date_month' tiene 0.00% de datos faltantes. El impacto es mínimo.\n",
      "La columna 'arrival_date_week_number' tiene 0.00% de datos faltantes. El impacto es mínimo.\n",
      "La columna 'arrival_date_day_of_month' tiene 0.00% de datos faltantes. El impacto es mínimo.\n",
      "La columna 'stays_in_weekend_nights' tiene 0.00% de datos faltantes. El impacto es mínimo.\n",
      "La columna 'stays_in_week_nights' tiene 0.00% de datos faltantes. El impacto es mínimo.\n",
      "La columna 'adults' tiene 0.00% de datos faltantes. El impacto es mínimo.\n",
      "La columna 'children' tiene 0.00% de datos faltantes. El impacto es mínimo.\n",
      "La columna 'babies' tiene 0.00% de datos faltantes. El impacto es mínimo.\n",
      "La columna 'meal' tiene 0.00% de datos faltantes. El impacto es mínimo.\n",
      "La columna 'country' tiene 0.41% de datos faltantes. El impacto es mínimo.\n",
      "La columna 'market_segment' tiene 0.00% de datos faltantes. El impacto es mínimo.\n",
      "La columna 'distribution_channel' tiene 0.00% de datos faltantes. El impacto es mínimo.\n",
      "La columna 'is_repeated_guest' tiene 0.00% de datos faltantes. El impacto es mínimo.\n",
      "La columna 'previous_cancellations' tiene 0.00% de datos faltantes. El impacto es mínimo.\n",
      "La columna 'previous_bookings_not_canceled' tiene 0.00% de datos faltantes. El impacto es mínimo.\n",
      "La columna 'reserved_room_type' tiene 0.00% de datos faltantes. El impacto es mínimo.\n",
      "La columna 'assigned_room_type' tiene 0.00% de datos faltantes. El impacto es mínimo.\n",
      "La columna 'booking_changes' tiene 0.00% de datos faltantes. El impacto es mínimo.\n",
      "La columna 'deposit_type' tiene 0.00% de datos faltantes. El impacto es mínimo.\n",
      "La columna 'agent' tiene 13.69% de datos faltantes. Considera imputar los valores faltantes.\n",
      "La columna 'company' tiene 94.31% de datos faltantes. Considera eliminarla.\n",
      "La columna 'days_in_waiting_list' tiene 0.00% de datos faltantes. El impacto es mínimo.\n",
      "La columna 'customer_type' tiene 0.00% de datos faltantes. El impacto es mínimo.\n",
      "La columna 'adr' tiene 0.00% de datos faltantes. El impacto es mínimo.\n",
      "La columna 'required_car_parking_spaces' tiene 0.00% de datos faltantes. El impacto es mínimo.\n",
      "La columna 'total_of_special_requests' tiene 0.00% de datos faltantes. El impacto es mínimo.\n",
      "La columna 'reservation_status' tiene 0.00% de datos faltantes. El impacto es mínimo.\n",
      "La columna 'reservation_status_date' tiene 0.00% de datos faltantes. El impacto es mínimo.\n"
     ]
    }
   ],
   "source": [
    "\n",
    "# Supongamos que 'df' es tu DataFrame\n",
    "# Calcular proporción de datos faltantes por cada columna\n",
    "missing_proportion = (df.isnull().sum() / len(df)) * 100\n",
    "# Sugerir acciones basadas en la proporción de datos faltantes\n",
    "threshold_high = 50  # Umbral alto para eliminar (en porcentaje)\n",
    "threshold_low = 5    # Umbral bajo para imputar (en porcentaje)\n",
    "\n",
    "for column, proportion in missing_proportion.items():\n",
    "    if proportion > threshold_high:\n",
    "        print(f\"La columna '{column}' tiene {proportion:.2f}% de datos faltantes. Considera eliminarla.\")\n",
    "    elif proportion > threshold_low:\n",
    "        print(f\"La columna '{column}' tiene {proportion:.2f}% de datos faltantes. Considera imputar los valores faltantes.\")\n",
    "    else:\n",
    "        print(f\"La columna '{column}' tiene {proportion:.2f}% de datos faltantes. El impacto es mínimo.\")\n"
   ]
  },
  {
   "cell_type": "markdown",
   "id": "a5310378",
   "metadata": {},
   "source": [
    "### Notas:\n",
    "- **Columna `agent`**: Tiene un 13.69% de datos faltantes. Se recomienda imputar estos valores.\n",
    "- **Columna `company`**: Presenta un 94.31% de datos faltantes. Dado el alto porcentaje de datos faltantes, se sugiere considerar la eliminación de esta columna del análisis."
   ]
  },
  {
   "cell_type": "code",
   "execution_count": 45,
   "id": "85614fc0",
   "metadata": {},
   "outputs": [
    {
     "data": {
      "text/html": [
       "<div>\n",
       "<style scoped>\n",
       "    .dataframe tbody tr th:only-of-type {\n",
       "        vertical-align: middle;\n",
       "    }\n",
       "\n",
       "    .dataframe tbody tr th {\n",
       "        vertical-align: top;\n",
       "    }\n",
       "\n",
       "    .dataframe thead th {\n",
       "        text-align: right;\n",
       "    }\n",
       "</style>\n",
       "<table border=\"1\" class=\"dataframe\">\n",
       "  <thead>\n",
       "    <tr style=\"text-align: right;\">\n",
       "      <th></th>\n",
       "      <th>hotel</th>\n",
       "      <th>is_canceled</th>\n",
       "      <th>lead_time</th>\n",
       "      <th>arrival_date_year</th>\n",
       "      <th>arrival_date_month</th>\n",
       "      <th>arrival_date_week_number</th>\n",
       "      <th>arrival_date_day_of_month</th>\n",
       "      <th>stays_in_weekend_nights</th>\n",
       "      <th>stays_in_week_nights</th>\n",
       "      <th>adults</th>\n",
       "      <th>...</th>\n",
       "      <th>assigned_room_type</th>\n",
       "      <th>booking_changes</th>\n",
       "      <th>deposit_type</th>\n",
       "      <th>days_in_waiting_list</th>\n",
       "      <th>customer_type</th>\n",
       "      <th>adr</th>\n",
       "      <th>required_car_parking_spaces</th>\n",
       "      <th>total_of_special_requests</th>\n",
       "      <th>reservation_status</th>\n",
       "      <th>reservation_status_date</th>\n",
       "    </tr>\n",
       "  </thead>\n",
       "  <tbody>\n",
       "    <tr>\n",
       "      <th>0</th>\n",
       "      <td>Resort Hotel</td>\n",
       "      <td>0</td>\n",
       "      <td>342</td>\n",
       "      <td>2015</td>\n",
       "      <td>July</td>\n",
       "      <td>27</td>\n",
       "      <td>1</td>\n",
       "      <td>0</td>\n",
       "      <td>0</td>\n",
       "      <td>2</td>\n",
       "      <td>...</td>\n",
       "      <td>C</td>\n",
       "      <td>3</td>\n",
       "      <td>No Deposit</td>\n",
       "      <td>0</td>\n",
       "      <td>Transient</td>\n",
       "      <td>0.00</td>\n",
       "      <td>0</td>\n",
       "      <td>0</td>\n",
       "      <td>Check-Out</td>\n",
       "      <td>2015-07-01</td>\n",
       "    </tr>\n",
       "    <tr>\n",
       "      <th>1</th>\n",
       "      <td>Resort Hotel</td>\n",
       "      <td>0</td>\n",
       "      <td>737</td>\n",
       "      <td>2015</td>\n",
       "      <td>July</td>\n",
       "      <td>27</td>\n",
       "      <td>1</td>\n",
       "      <td>0</td>\n",
       "      <td>0</td>\n",
       "      <td>2</td>\n",
       "      <td>...</td>\n",
       "      <td>C</td>\n",
       "      <td>4</td>\n",
       "      <td>No Deposit</td>\n",
       "      <td>0</td>\n",
       "      <td>Transient</td>\n",
       "      <td>0.00</td>\n",
       "      <td>0</td>\n",
       "      <td>0</td>\n",
       "      <td>Check-Out</td>\n",
       "      <td>2015-07-01</td>\n",
       "    </tr>\n",
       "    <tr>\n",
       "      <th>2</th>\n",
       "      <td>Resort Hotel</td>\n",
       "      <td>0</td>\n",
       "      <td>7</td>\n",
       "      <td>2015</td>\n",
       "      <td>July</td>\n",
       "      <td>27</td>\n",
       "      <td>1</td>\n",
       "      <td>0</td>\n",
       "      <td>1</td>\n",
       "      <td>1</td>\n",
       "      <td>...</td>\n",
       "      <td>C</td>\n",
       "      <td>0</td>\n",
       "      <td>No Deposit</td>\n",
       "      <td>0</td>\n",
       "      <td>Transient</td>\n",
       "      <td>75.00</td>\n",
       "      <td>0</td>\n",
       "      <td>0</td>\n",
       "      <td>Check-Out</td>\n",
       "      <td>2015-07-02</td>\n",
       "    </tr>\n",
       "    <tr>\n",
       "      <th>3</th>\n",
       "      <td>Resort Hotel</td>\n",
       "      <td>0</td>\n",
       "      <td>13</td>\n",
       "      <td>2015</td>\n",
       "      <td>July</td>\n",
       "      <td>27</td>\n",
       "      <td>1</td>\n",
       "      <td>0</td>\n",
       "      <td>1</td>\n",
       "      <td>1</td>\n",
       "      <td>...</td>\n",
       "      <td>A</td>\n",
       "      <td>0</td>\n",
       "      <td>No Deposit</td>\n",
       "      <td>0</td>\n",
       "      <td>Transient</td>\n",
       "      <td>75.00</td>\n",
       "      <td>0</td>\n",
       "      <td>0</td>\n",
       "      <td>Check-Out</td>\n",
       "      <td>2015-07-02</td>\n",
       "    </tr>\n",
       "    <tr>\n",
       "      <th>4</th>\n",
       "      <td>Resort Hotel</td>\n",
       "      <td>0</td>\n",
       "      <td>14</td>\n",
       "      <td>2015</td>\n",
       "      <td>July</td>\n",
       "      <td>27</td>\n",
       "      <td>1</td>\n",
       "      <td>0</td>\n",
       "      <td>2</td>\n",
       "      <td>2</td>\n",
       "      <td>...</td>\n",
       "      <td>A</td>\n",
       "      <td>0</td>\n",
       "      <td>No Deposit</td>\n",
       "      <td>0</td>\n",
       "      <td>Transient</td>\n",
       "      <td>98.00</td>\n",
       "      <td>0</td>\n",
       "      <td>1</td>\n",
       "      <td>Check-Out</td>\n",
       "      <td>2015-07-03</td>\n",
       "    </tr>\n",
       "    <tr>\n",
       "      <th>...</th>\n",
       "      <td>...</td>\n",
       "      <td>...</td>\n",
       "      <td>...</td>\n",
       "      <td>...</td>\n",
       "      <td>...</td>\n",
       "      <td>...</td>\n",
       "      <td>...</td>\n",
       "      <td>...</td>\n",
       "      <td>...</td>\n",
       "      <td>...</td>\n",
       "      <td>...</td>\n",
       "      <td>...</td>\n",
       "      <td>...</td>\n",
       "      <td>...</td>\n",
       "      <td>...</td>\n",
       "      <td>...</td>\n",
       "      <td>...</td>\n",
       "      <td>...</td>\n",
       "      <td>...</td>\n",
       "      <td>...</td>\n",
       "      <td>...</td>\n",
       "    </tr>\n",
       "    <tr>\n",
       "      <th>119385</th>\n",
       "      <td>City Hotel</td>\n",
       "      <td>0</td>\n",
       "      <td>23</td>\n",
       "      <td>2017</td>\n",
       "      <td>August</td>\n",
       "      <td>35</td>\n",
       "      <td>30</td>\n",
       "      <td>2</td>\n",
       "      <td>5</td>\n",
       "      <td>2</td>\n",
       "      <td>...</td>\n",
       "      <td>A</td>\n",
       "      <td>0</td>\n",
       "      <td>No Deposit</td>\n",
       "      <td>0</td>\n",
       "      <td>Transient</td>\n",
       "      <td>96.14</td>\n",
       "      <td>0</td>\n",
       "      <td>0</td>\n",
       "      <td>Check-Out</td>\n",
       "      <td>2017-09-06</td>\n",
       "    </tr>\n",
       "    <tr>\n",
       "      <th>119386</th>\n",
       "      <td>City Hotel</td>\n",
       "      <td>0</td>\n",
       "      <td>102</td>\n",
       "      <td>2017</td>\n",
       "      <td>August</td>\n",
       "      <td>35</td>\n",
       "      <td>31</td>\n",
       "      <td>2</td>\n",
       "      <td>5</td>\n",
       "      <td>3</td>\n",
       "      <td>...</td>\n",
       "      <td>E</td>\n",
       "      <td>0</td>\n",
       "      <td>No Deposit</td>\n",
       "      <td>0</td>\n",
       "      <td>Transient</td>\n",
       "      <td>225.43</td>\n",
       "      <td>0</td>\n",
       "      <td>2</td>\n",
       "      <td>Check-Out</td>\n",
       "      <td>2017-09-07</td>\n",
       "    </tr>\n",
       "    <tr>\n",
       "      <th>119387</th>\n",
       "      <td>City Hotel</td>\n",
       "      <td>0</td>\n",
       "      <td>34</td>\n",
       "      <td>2017</td>\n",
       "      <td>August</td>\n",
       "      <td>35</td>\n",
       "      <td>31</td>\n",
       "      <td>2</td>\n",
       "      <td>5</td>\n",
       "      <td>2</td>\n",
       "      <td>...</td>\n",
       "      <td>D</td>\n",
       "      <td>0</td>\n",
       "      <td>No Deposit</td>\n",
       "      <td>0</td>\n",
       "      <td>Transient</td>\n",
       "      <td>157.71</td>\n",
       "      <td>0</td>\n",
       "      <td>4</td>\n",
       "      <td>Check-Out</td>\n",
       "      <td>2017-09-07</td>\n",
       "    </tr>\n",
       "    <tr>\n",
       "      <th>119388</th>\n",
       "      <td>City Hotel</td>\n",
       "      <td>0</td>\n",
       "      <td>109</td>\n",
       "      <td>2017</td>\n",
       "      <td>August</td>\n",
       "      <td>35</td>\n",
       "      <td>31</td>\n",
       "      <td>2</td>\n",
       "      <td>5</td>\n",
       "      <td>2</td>\n",
       "      <td>...</td>\n",
       "      <td>A</td>\n",
       "      <td>0</td>\n",
       "      <td>No Deposit</td>\n",
       "      <td>0</td>\n",
       "      <td>Transient</td>\n",
       "      <td>104.40</td>\n",
       "      <td>0</td>\n",
       "      <td>0</td>\n",
       "      <td>Check-Out</td>\n",
       "      <td>2017-09-07</td>\n",
       "    </tr>\n",
       "    <tr>\n",
       "      <th>119389</th>\n",
       "      <td>City Hotel</td>\n",
       "      <td>0</td>\n",
       "      <td>205</td>\n",
       "      <td>2017</td>\n",
       "      <td>August</td>\n",
       "      <td>35</td>\n",
       "      <td>29</td>\n",
       "      <td>2</td>\n",
       "      <td>7</td>\n",
       "      <td>2</td>\n",
       "      <td>...</td>\n",
       "      <td>A</td>\n",
       "      <td>0</td>\n",
       "      <td>No Deposit</td>\n",
       "      <td>0</td>\n",
       "      <td>Transient</td>\n",
       "      <td>151.20</td>\n",
       "      <td>0</td>\n",
       "      <td>2</td>\n",
       "      <td>Check-Out</td>\n",
       "      <td>2017-09-07</td>\n",
       "    </tr>\n",
       "  </tbody>\n",
       "</table>\n",
       "<p>119390 rows × 30 columns</p>\n",
       "</div>"
      ],
      "text/plain": [
       "               hotel  is_canceled  lead_time  arrival_date_year  \\\n",
       "0       Resort Hotel            0        342               2015   \n",
       "1       Resort Hotel            0        737               2015   \n",
       "2       Resort Hotel            0          7               2015   \n",
       "3       Resort Hotel            0         13               2015   \n",
       "4       Resort Hotel            0         14               2015   \n",
       "...              ...          ...        ...                ...   \n",
       "119385    City Hotel            0         23               2017   \n",
       "119386    City Hotel            0        102               2017   \n",
       "119387    City Hotel            0         34               2017   \n",
       "119388    City Hotel            0        109               2017   \n",
       "119389    City Hotel            0        205               2017   \n",
       "\n",
       "       arrival_date_month  arrival_date_week_number  \\\n",
       "0                    July                        27   \n",
       "1                    July                        27   \n",
       "2                    July                        27   \n",
       "3                    July                        27   \n",
       "4                    July                        27   \n",
       "...                   ...                       ...   \n",
       "119385             August                        35   \n",
       "119386             August                        35   \n",
       "119387             August                        35   \n",
       "119388             August                        35   \n",
       "119389             August                        35   \n",
       "\n",
       "        arrival_date_day_of_month  stays_in_weekend_nights  \\\n",
       "0                               1                        0   \n",
       "1                               1                        0   \n",
       "2                               1                        0   \n",
       "3                               1                        0   \n",
       "4                               1                        0   \n",
       "...                           ...                      ...   \n",
       "119385                         30                        2   \n",
       "119386                         31                        2   \n",
       "119387                         31                        2   \n",
       "119388                         31                        2   \n",
       "119389                         29                        2   \n",
       "\n",
       "        stays_in_week_nights  adults  ...  assigned_room_type  \\\n",
       "0                          0       2  ...                   C   \n",
       "1                          0       2  ...                   C   \n",
       "2                          1       1  ...                   C   \n",
       "3                          1       1  ...                   A   \n",
       "4                          2       2  ...                   A   \n",
       "...                      ...     ...  ...                 ...   \n",
       "119385                     5       2  ...                   A   \n",
       "119386                     5       3  ...                   E   \n",
       "119387                     5       2  ...                   D   \n",
       "119388                     5       2  ...                   A   \n",
       "119389                     7       2  ...                   A   \n",
       "\n",
       "        booking_changes deposit_type days_in_waiting_list customer_type  \\\n",
       "0                     3   No Deposit                    0     Transient   \n",
       "1                     4   No Deposit                    0     Transient   \n",
       "2                     0   No Deposit                    0     Transient   \n",
       "3                     0   No Deposit                    0     Transient   \n",
       "4                     0   No Deposit                    0     Transient   \n",
       "...                 ...          ...                  ...           ...   \n",
       "119385                0   No Deposit                    0     Transient   \n",
       "119386                0   No Deposit                    0     Transient   \n",
       "119387                0   No Deposit                    0     Transient   \n",
       "119388                0   No Deposit                    0     Transient   \n",
       "119389                0   No Deposit                    0     Transient   \n",
       "\n",
       "           adr  required_car_parking_spaces  total_of_special_requests  \\\n",
       "0         0.00                            0                          0   \n",
       "1         0.00                            0                          0   \n",
       "2        75.00                            0                          0   \n",
       "3        75.00                            0                          0   \n",
       "4        98.00                            0                          1   \n",
       "...        ...                          ...                        ...   \n",
       "119385   96.14                            0                          0   \n",
       "119386  225.43                            0                          2   \n",
       "119387  157.71                            0                          4   \n",
       "119388  104.40                            0                          0   \n",
       "119389  151.20                            0                          2   \n",
       "\n",
       "        reservation_status reservation_status_date  \n",
       "0                Check-Out              2015-07-01  \n",
       "1                Check-Out              2015-07-01  \n",
       "2                Check-Out              2015-07-02  \n",
       "3                Check-Out              2015-07-02  \n",
       "4                Check-Out              2015-07-03  \n",
       "...                    ...                     ...  \n",
       "119385           Check-Out              2017-09-06  \n",
       "119386           Check-Out              2017-09-07  \n",
       "119387           Check-Out              2017-09-07  \n",
       "119388           Check-Out              2017-09-07  \n",
       "119389           Check-Out              2017-09-07  \n",
       "\n",
       "[119390 rows x 30 columns]"
      ]
     },
     "execution_count": 45,
     "metadata": {},
     "output_type": "execute_result"
    }
   ],
   "source": [
    "# Supongamos que ya tienes el DataFrame 'df'\n",
    "# Eliminar columnas de identificación Con Valores perdidos\n",
    "df_cleaned = df.drop(columns=['agent', 'company'])\n",
    "\n",
    "# Verificar las primeras filas del DataFrame limpio\n",
    "df_cleaned"
   ]
  },
  {
   "cell_type": "markdown",
   "id": "0b7669b0",
   "metadata": {},
   "source": [
    "#### 3.4. Código para Generar Valores Perdidos en la Columna `lead_time`\n",
    "\n",
    "Este código introduce valores faltantes aleatoriamente en la columna `lead_time` de tu DataFrame `df`, aproximadamente un 15% de los datos. Esto te permitirá comparar los resultados imputados con los datos originales para evaluar la efectividad de las técnicas de imputación.\n"
   ]
  },
  {
   "cell_type": "code",
   "execution_count": 46,
   "id": "5c79e3a1",
   "metadata": {},
   "outputs": [
    {
     "name": "stdout",
     "output_type": "stream",
     "text": [
      "Valores perdidos en 'lead_time' después de introducir los valores faltantes: 17908\n",
      "Proporción de valores perdidos en 'lead_time': 14.999581%\n"
     ]
    }
   ],
   "source": [
    "# Establecer una semilla para reproducibilidad\n",
    "np.random.seed(42)\n",
    "\n",
    "# Número total de filas en el DataFrame\n",
    "total_filas = df_cleaned.shape[0]\n",
    "\n",
    "# Generar índices aleatorios que representarán aproximadamente el 15% de los datos en 'lead_time'\n",
    "indices_a_nulos = np.random.choice(total_filas, size=int(0.15 * total_filas), replace=False)\n",
    "\n",
    "# Crear valores perdidos en 'lead_time'\n",
    "df_with_missing = df_cleaned.copy()\n",
    "df_with_missing.loc[indices_a_nulos, 'lead_time'] = np.nan\n",
    "\n",
    "# Verificar la cantidad de valores faltantes en 'lead_time' después de introducir los valores perdidos\n",
    "print(f\"Valores perdidos en 'lead_time' después de introducir los valores faltantes: {df_with_missing['lead_time'].isnull().sum()}\")\n",
    "print(f\"Proporción de valores perdidos en 'lead_time': {(df_with_missing['lead_time'].isnull().sum() / len(df_cleaned)) * 100:.6f}%\")\n"
   ]
  },
  {
   "cell_type": "markdown",
   "id": "f4771820",
   "metadata": {},
   "source": [
    "#### 3.5. Imputar los Valores Perdidos en la Columna `lead_time` con MissForest\n"
   ]
  },
  {
   "cell_type": "code",
   "execution_count": 47,
   "id": "1da16420",
   "metadata": {},
   "outputs": [],
   "source": [
    "# Supongamos que ya tienes el DataFrame 'df_with_missing'\n",
    "# Convertir columnas categóricas a numéricas usando LabelEncoder\n",
    "label_encoders = {}\n",
    "for column in df_with_missing.select_dtypes(include=['object']).columns:\n",
    "    le = LabelEncoder()\n",
    "    df_with_missing[column] = le.fit_transform(df_with_missing[column].astype(str))\n",
    "    label_encoders[column] = le\n",
    "\n",
    "# Crear una copia del DataFrame con los valores perdidos para imputar\n",
    "df_imputation = df_with_missing.copy()"
   ]
  },
  {
   "cell_type": "code",
   "execution_count": 48,
   "id": "08e656c8",
   "metadata": {},
   "outputs": [
    {
     "name": "stdout",
     "output_type": "stream",
     "text": [
      "Valores perdidos en 'lead_time' después de la imputación: 0\n"
     ]
    }
   ],
   "source": [
    "# Separar la columna con valores perdidos y el resto del DataFrame\n",
    "target_column = 'lead_time'\n",
    "X = df_imputation.drop(columns=[target_column])\n",
    "y = df_imputation[target_column]\n",
    "\n",
    "# Separar los datos en los que 'lead_time' está presente y los que están faltantes\n",
    "X_train = X[y.notnull()]\n",
    "y_train = y.dropna()\n",
    "X_test = X[y.isnull()]\n",
    "\n",
    "# Inicializar el imputador RandomForestRegressor\n",
    "rf_imputer = RandomForestRegressor()\n",
    "\n",
    "# Ajustar el imputador con los datos donde 'lead_time' está presente\n",
    "rf_imputer.fit(X_train, y_train)\n",
    "\n",
    "# Predecir los valores faltantes\n",
    "y_imputed = rf_imputer.predict(X_test)\n",
    "\n",
    "# Reemplazar los valores faltantes en el DataFrame original\n",
    "df_imputation.loc[y.isnull(), target_column] = y_imputed\n",
    "\n",
    "# Verificar los resultados de la imputación en la columna 'lead_time'\n",
    "print(f\"Valores perdidos en 'lead_time' después de la imputación: {df_imputation['lead_time'].isnull().sum()}\")\n"
   ]
  },
  {
   "cell_type": "markdown",
   "id": "d2b2d4d8",
   "metadata": {},
   "source": [
    "#### 3.6. Evaluando la Imputación de  los Valores Perdidos en la Columna `lead_time` con MissForest\n"
   ]
  },
  {
   "cell_type": "code",
   "execution_count": 51,
   "id": "050a8387",
   "metadata": {},
   "outputs": [
    {
     "name": "stdout",
     "output_type": "stream",
     "text": [
      "Mean Squared Error (MSE): 215.105021\n"
     ]
    }
   ],
   "source": [
    "# Calcular el MSE entre los valores originales y los imputados\n",
    "mse = mean_squared_error(df[\"lead_time\"], df_imputation[\"lead_time\"])\n",
    "print(f\"Mean Squared Error (MSE): {mse:.6f}\")\n"
   ]
  },
  {
   "cell_type": "code",
   "execution_count": 73,
   "id": "a680087f",
   "metadata": {},
   "outputs": [
    {
     "data": {
      "image/png": "[encoded data removed]",
      "text/plain": [
       "<Figure size 1200x600 with 1 Axes>"
      ]
     },
     "metadata": {},
     "output_type": "display_data"
    }
   ],
   "source": [
    "# Crear una figura y ejes para el gráfico\n",
    "plt.figure(figsize=(12, 6))\n",
    "\n",
    "# Graficar la distribución de los valores originales\n",
    "sns.histplot(df[\"lead_time\"], kde=True, color='blue', label='Original', stat='density', bins=200)\n",
    "\n",
    "# Graficar la distribución de los valores imputados\n",
    "sns.histplot(df_imputation[\"lead_time\"], kde=True, color='red', label='Imputed', stat='density', bins=200)\n",
    "\n",
    "# Configurar el gráfico\n",
    "plt.title('Distribución de Lead Time: Original vs Imputado')\n",
    "plt.xlabel('Lead Time')\n",
    "plt.ylabel('Densidad')\n",
    "plt.legend()\n",
    "plt.show()\n"
   ]
  },
  {
   "cell_type": "markdown",
   "id": "3f5a5756",
   "metadata": {},
   "source": [
    "### 4. Comparación con KNN"
   ]
  },
  {
   "cell_type": "markdown",
   "id": "810ca8c2",
   "metadata": {},
   "source": [
    "#### 4.1. Imputar los Valores Perdidos en la Columna `lead_time` con MissForest\n"
   ]
  },
  {
   "cell_type": "code",
   "execution_count": null,
   "id": "991e321d",
   "metadata": {},
   "outputs": [
    {
     "name": "stdout",
     "output_type": "stream",
     "text": [
      "Valores perdidos en 'lead_time' después de la imputación: 0\n"
     ]
    }
   ],
   "source": [
    "# Inicializar el imputador KNNImputer\n",
    "knn_imputer = KNNImputer(n_neighbors=5)  # Puedes ajustar el número de vecinos si es necesario\n",
    "\n",
    "# Ajustar el imputador a los datos y transformar\n",
    "df_imputed_knn = knn_imputer.fit_transform(df_imputation)\n",
    "\n",
    "# Convertir el resultado imputado de nuevo a un DataFrame\n",
    "df_imputed_knn = pd.DataFrame(df_imputed_knn, columns=df_imputation.columns)\n",
    "\n",
    "# Verificar los resultados de la imputación en la columna 'lead_time'\n",
    "print(f\"Valores perdidos en 'lead_time' después de la imputación: {df_imputed_knn['lead_time'].isnull().sum()}\")\n"
   ]
  },
  {
   "cell_type": "markdown",
   "id": "a3d47e8a",
   "metadata": {},
   "source": [
    "#### 4.2. Evaluando la Imputación de  los Valores Perdidos en la Columna `lead_time` con KNN"
   ]
  },
  {
   "cell_type": "code",
   "execution_count": 77,
   "id": "123b2518",
   "metadata": {},
   "outputs": [
    {
     "name": "stdout",
     "output_type": "stream",
     "text": [
      "Mean Squared Error (MSE): 476.033856\n"
     ]
    }
   ],
   "source": [
    "\n",
    "# Calcular el MSE entre los valores originales y los imputados\n",
    "mse = mean_squared_error(df[\"lead_time\"], df_imputed_knn[\"lead_time\"])\n",
    "print(f\"Mean Squared Error (MSE): {mse:.6f}\")\n"
   ]
  },
  {
   "cell_type": "code",
   "execution_count": 78,
   "id": "9948ee5e",
   "metadata": {},
   "outputs": [
    {
     "data": {
      "image/png": "[encoded data removed]",
      "text/plain": [
       "<Figure size 1400x600 with 2 Axes>"
      ]
     },
     "metadata": {},
     "output_type": "display_data"
    }
   ],
   "source": [
    "import matplotlib.pyplot as plt\n",
    "import seaborn as sns\n",
    "\n",
    "# Crear una figura y ejes para los gráficos\n",
    "fig, axes = plt.subplots(1, 2, figsize=(14, 6), sharey=True)\n",
    "\n",
    "# Graficar la distribución de los valores originales vs imputados por MISSFOREST en el primer gráfico\n",
    "sns.histplot(df[\"lead_time\"], kde=True, color='blue', label='Original', stat='density', bins=150, ax=axes[0])\n",
    "sns.histplot(df_imputation[\"lead_time\"], kde=True, color='red', label='Imputed_RF', stat='density', bins=150, ax=axes[0])\n",
    "axes[0].set_title('Original vs Imputados (MISSFOREST)')\n",
    "axes[0].set_xlabel('Lead Time')\n",
    "axes[0].set_ylabel('Densidad')\n",
    "axes[0].legend()\n",
    "\n",
    "# Graficar la distribución de los valores originales vs imputados por KNN en el segundo gráfico\n",
    "sns.histplot(df[\"lead_time\"], kde=True, color='blue', label='Original', stat='density', bins=150, ax=axes[1])\n",
    "sns.histplot(df_imputed_knn[\"lead_time\"], kde=True, color='green', label='Imputed_KNN', stat='density', bins=150, ax=axes[1])\n",
    "axes[1].set_title('Original vs Imputados (KNN)')\n",
    "axes[1].set_xlabel('Lead Time')\n",
    "axes[1].set_ylabel('Densidad')\n",
    "axes[1].legend()\n",
    "\n",
    "# Mostrar los gráficos\n",
    "plt.tight_layout()\n",
    "plt.show()\n"
   ]
  },
  {
   "cell_type": "markdown",
   "id": "b8aa1132",
   "metadata": {},
   "source": [
    "### 5. Conclusiones"
   ]
  },
  {
   "cell_type": "markdown",
   "id": "0df7e292",
   "metadata": {},
   "source": [
    "**Conservación de la Distribución Original**: Tanto MissForest como KNN han logrado mantener la forma de la distribución original de la variable `lead_time`, como se observa en los gráficos de densidad. Las densidades de los datos originales y los imputados se superponen, lo que sugiere una buena preservación de la distribución.\n",
    "\n",
    "**Rendimiento de MissForest vs. KNN**: MissForest tiene un error cuadrático medio (MSE: 215.105021) significativamente menor que KNN (MSE: 476.033856), lo que indica que MissForest proporciona imputaciones más precisas y cercanas a los valores reales.\n",
    "\n",
    "**Precisión en Imputaciones**: La diferencia menor entre las curvas de densidad de los datos originales e imputados con MissForest, comparada con KNN, sugiere que MissForest captura mejor la variabilidad y las relaciones en los datos, ofreciendo imputaciones más representativas de los valores originales.\n",
    "\n",
    "**Imputación de Valores Perdidos**: La imputación es crucial cuando se generan valores faltantes aleatoriamente. MissForest, con su enfoque de bosques aleatorios, demuestra ser robusto en situaciones con estructuras de datos complejas, mientras que KNN puede ser menos preciso en tales escenarios.\n"
   ]
  }
 ],
 "metadata": {
  "kernelspec": {
   "display_name": "Python 3 (ipykernel)",
   "language": "python",
   "name": "python3"
  },
  "language_info": {
   "codemirror_mode": {
    "name": "ipython",
    "version": 3
   },
   "file_extension": ".py",
   "mimetype": "text/x-python",
   "name": "python",
   "nbconvert_exporter": "python",
   "pygments_lexer": "ipython3",
   "version": "3.11.9"
  }
 },
 "nbformat": 4,
 "nbformat_minor": 5
}
