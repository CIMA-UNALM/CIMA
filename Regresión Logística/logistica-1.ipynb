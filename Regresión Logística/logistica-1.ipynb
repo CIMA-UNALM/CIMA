{
  "nbformat": 4,
  "nbformat_minor": 0,
  "metadata": {
    "colab": {
      "provenance": []
    },
    "kernelspec": {
      "name": "python3",
      "display_name": "Python 3"
    },
    "language_info": {
      "name": "python"
    }
  },
  "cells": [
    {
      "cell_type": "code",
      "execution_count": 12,
      "metadata": {
        "id": "veaxdyuv4xEo"
      },
      "outputs": [],
      "source": [
        "import pandas as pd\n",
        "import numpy as np\n",
        "import matplotlib.pyplot as plt\n",
        "import seaborn as sns\n",
        "import statsmodels.api as sm\n",
        "from sklearn.metrics import confusion_matrix, accuracy_score\n",
        "from sklearn.model_selection import train_test_split"
      ]
    },
    {
      "cell_type": "code",
      "source": [
        "caso = pd.read_excel('Caso.xlsx')"
      ],
      "metadata": {
        "id": "RqVhrTti426X"
      },
      "execution_count": 10,
      "outputs": []
    },
    {
      "cell_type": "markdown",
      "source": [
        "si un cliente realizará una compra en función de sus ingresos. Utilizaremos la regresión logística binaria para clasificar a los clientes como compradores activos (Compra = 1) o pasivos (Compra = 0)."
      ],
      "metadata": {
        "id": "MlmzPgCpARI7"
      }
    },
    {
      "cell_type": "code",
      "source": [
        "caso.head()"
      ],
      "metadata": {
        "colab": {
          "base_uri": "https://localhost:8080/",
          "height": 206
        },
        "id": "BZ07JD-O5AXu",
        "outputId": "88a8fea1-2969-4be6-ee9b-b1a7b0813a2b"
      },
      "execution_count": 11,
      "outputs": [
        {
          "output_type": "execute_result",
          "data": {
            "text/plain": [
              "   Compra  Ingresos\n",
              "0       1      50.2\n",
              "1       1      70.3\n",
              "2       1      62.9\n",
              "3       1      48.5\n",
              "4       1      57.2"
            ],
            "text/html": [
              "\n",
              "  <div id=\"df-5664d229-75c8-4feb-b457-57ed8d870981\" class=\"colab-df-container\">\n",
              "    <div>\n",
              "<style scoped>\n",
              "    .dataframe tbody tr th:only-of-type {\n",
              "        vertical-align: middle;\n",
              "    }\n",
              "\n",
              "    .dataframe tbody tr th {\n",
              "        vertical-align: top;\n",
              "    }\n",
              "\n",
              "    .dataframe thead th {\n",
              "        text-align: right;\n",
              "    }\n",
              "</style>\n",
              "<table border=\"1\" class=\"dataframe\">\n",
              "  <thead>\n",
              "    <tr style=\"text-align: right;\">\n",
              "      <th></th>\n",
              "      <th>Compra</th>\n",
              "      <th>Ingresos</th>\n",
              "    </tr>\n",
              "  </thead>\n",
              "  <tbody>\n",
              "    <tr>\n",
              "      <th>0</th>\n",
              "      <td>1</td>\n",
              "      <td>50.2</td>\n",
              "    </tr>\n",
              "    <tr>\n",
              "      <th>1</th>\n",
              "      <td>1</td>\n",
              "      <td>70.3</td>\n",
              "    </tr>\n",
              "    <tr>\n",
              "      <th>2</th>\n",
              "      <td>1</td>\n",
              "      <td>62.9</td>\n",
              "    </tr>\n",
              "    <tr>\n",
              "      <th>3</th>\n",
              "      <td>1</td>\n",
              "      <td>48.5</td>\n",
              "    </tr>\n",
              "    <tr>\n",
              "      <th>4</th>\n",
              "      <td>1</td>\n",
              "      <td>57.2</td>\n",
              "    </tr>\n",
              "  </tbody>\n",
              "</table>\n",
              "</div>\n",
              "    <div class=\"colab-df-buttons\">\n",
              "\n",
              "  <div class=\"colab-df-container\">\n",
              "    <button class=\"colab-df-convert\" onclick=\"convertToInteractive('df-5664d229-75c8-4feb-b457-57ed8d870981')\"\n",
              "            title=\"Convert this dataframe to an interactive table.\"\n",
              "            style=\"display:none;\">\n",
              "\n",
              "  <svg xmlns=\"http://www.w3.org/2000/svg\" height=\"24px\" viewBox=\"0 -960 960 960\">\n",
              "    <path d=\"M120-120v-720h720v720H120Zm60-500h600v-160H180v160Zm220 220h160v-160H400v160Zm0 220h160v-160H400v160ZM180-400h160v-160H180v160Zm440 0h160v-160H620v160ZM180-180h160v-160H180v160Zm440 0h160v-160H620v160Z\"/>\n",
              "  </svg>\n",
              "    </button>\n",
              "\n",
              "  <style>\n",
              "    .colab-df-container {\n",
              "      display:flex;\n",
              "      gap: 12px;\n",
              "    }\n",
              "\n",
              "    .colab-df-convert {\n",
              "      background-color: #E8F0FE;\n",
              "      border: none;\n",
              "      border-radius: 50%;\n",
              "      cursor: pointer;\n",
              "      display: none;\n",
              "      fill: #1967D2;\n",
              "      height: 32px;\n",
              "      padding: 0 0 0 0;\n",
              "      width: 32px;\n",
              "    }\n",
              "\n",
              "    .colab-df-convert:hover {\n",
              "      background-color: #E2EBFA;\n",
              "      box-shadow: 0px 1px 2px rgba(60, 64, 67, 0.3), 0px 1px 3px 1px rgba(60, 64, 67, 0.15);\n",
              "      fill: #174EA6;\n",
              "    }\n",
              "\n",
              "    .colab-df-buttons div {\n",
              "      margin-bottom: 4px;\n",
              "    }\n",
              "\n",
              "    [theme=dark] .colab-df-convert {\n",
              "      background-color: #3B4455;\n",
              "      fill: #D2E3FC;\n",
              "    }\n",
              "\n",
              "    [theme=dark] .colab-df-convert:hover {\n",
              "      background-color: #434B5C;\n",
              "      box-shadow: 0px 1px 3px 1px rgba(0, 0, 0, 0.15);\n",
              "      filter: drop-shadow(0px 1px 2px rgba(0, 0, 0, 0.3));\n",
              "      fill: #FFFFFF;\n",
              "    }\n",
              "  </style>\n",
              "\n",
              "    <script>\n",
              "      const buttonEl =\n",
              "        document.querySelector('#df-5664d229-75c8-4feb-b457-57ed8d870981 button.colab-df-convert');\n",
              "      buttonEl.style.display =\n",
              "        google.colab.kernel.accessAllowed ? 'block' : 'none';\n",
              "\n",
              "      async function convertToInteractive(key) {\n",
              "        const element = document.querySelector('#df-5664d229-75c8-4feb-b457-57ed8d870981');\n",
              "        const dataTable =\n",
              "          await google.colab.kernel.invokeFunction('convertToInteractive',\n",
              "                                                    [key], {});\n",
              "        if (!dataTable) return;\n",
              "\n",
              "        const docLinkHtml = 'Like what you see? Visit the ' +\n",
              "          '<a target=\"_blank\" href=https://colab.research.google.com/notebooks/data_table.ipynb>data table notebook</a>'\n",
              "          + ' to learn more about interactive tables.';\n",
              "        element.innerHTML = '';\n",
              "        dataTable['output_type'] = 'display_data';\n",
              "        await google.colab.output.renderOutput(dataTable, element);\n",
              "        const docLink = document.createElement('div');\n",
              "        docLink.innerHTML = docLinkHtml;\n",
              "        element.appendChild(docLink);\n",
              "      }\n",
              "    </script>\n",
              "  </div>\n",
              "\n",
              "\n",
              "<div id=\"df-02a61875-3b36-4546-9329-8ec82bd980de\">\n",
              "  <button class=\"colab-df-quickchart\" onclick=\"quickchart('df-02a61875-3b36-4546-9329-8ec82bd980de')\"\n",
              "            title=\"Suggest charts\"\n",
              "            style=\"display:none;\">\n",
              "\n",
              "<svg xmlns=\"http://www.w3.org/2000/svg\" height=\"24px\"viewBox=\"0 0 24 24\"\n",
              "     width=\"24px\">\n",
              "    <g>\n",
              "        <path d=\"M19 3H5c-1.1 0-2 .9-2 2v14c0 1.1.9 2 2 2h14c1.1 0 2-.9 2-2V5c0-1.1-.9-2-2-2zM9 17H7v-7h2v7zm4 0h-2V7h2v10zm4 0h-2v-4h2v4z\"/>\n",
              "    </g>\n",
              "</svg>\n",
              "  </button>\n",
              "\n",
              "<style>\n",
              "  .colab-df-quickchart {\n",
              "      --bg-color: #E8F0FE;\n",
              "      --fill-color: #1967D2;\n",
              "      --hover-bg-color: #E2EBFA;\n",
              "      --hover-fill-color: #174EA6;\n",
              "      --disabled-fill-color: #AAA;\n",
              "      --disabled-bg-color: #DDD;\n",
              "  }\n",
              "\n",
              "  [theme=dark] .colab-df-quickchart {\n",
              "      --bg-color: #3B4455;\n",
              "      --fill-color: #D2E3FC;\n",
              "      --hover-bg-color: #434B5C;\n",
              "      --hover-fill-color: #FFFFFF;\n",
              "      --disabled-bg-color: #3B4455;\n",
              "      --disabled-fill-color: #666;\n",
              "  }\n",
              "\n",
              "  .colab-df-quickchart {\n",
              "    background-color: var(--bg-color);\n",
              "    border: none;\n",
              "    border-radius: 50%;\n",
              "    cursor: pointer;\n",
              "    display: none;\n",
              "    fill: var(--fill-color);\n",
              "    height: 32px;\n",
              "    padding: 0;\n",
              "    width: 32px;\n",
              "  }\n",
              "\n",
              "  .colab-df-quickchart:hover {\n",
              "    background-color: var(--hover-bg-color);\n",
              "    box-shadow: 0 1px 2px rgba(60, 64, 67, 0.3), 0 1px 3px 1px rgba(60, 64, 67, 0.15);\n",
              "    fill: var(--button-hover-fill-color);\n",
              "  }\n",
              "\n",
              "  .colab-df-quickchart-complete:disabled,\n",
              "  .colab-df-quickchart-complete:disabled:hover {\n",
              "    background-color: var(--disabled-bg-color);\n",
              "    fill: var(--disabled-fill-color);\n",
              "    box-shadow: none;\n",
              "  }\n",
              "\n",
              "  .colab-df-spinner {\n",
              "    border: 2px solid var(--fill-color);\n",
              "    border-color: transparent;\n",
              "    border-bottom-color: var(--fill-color);\n",
              "    animation:\n",
              "      spin 1s steps(1) infinite;\n",
              "  }\n",
              "\n",
              "  @keyframes spin {\n",
              "    0% {\n",
              "      border-color: transparent;\n",
              "      border-bottom-color: var(--fill-color);\n",
              "      border-left-color: var(--fill-color);\n",
              "    }\n",
              "    20% {\n",
              "      border-color: transparent;\n",
              "      border-left-color: var(--fill-color);\n",
              "      border-top-color: var(--fill-color);\n",
              "    }\n",
              "    30% {\n",
              "      border-color: transparent;\n",
              "      border-left-color: var(--fill-color);\n",
              "      border-top-color: var(--fill-color);\n",
              "      border-right-color: var(--fill-color);\n",
              "    }\n",
              "    40% {\n",
              "      border-color: transparent;\n",
              "      border-right-color: var(--fill-color);\n",
              "      border-top-color: var(--fill-color);\n",
              "    }\n",
              "    60% {\n",
              "      border-color: transparent;\n",
              "      border-right-color: var(--fill-color);\n",
              "    }\n",
              "    80% {\n",
              "      border-color: transparent;\n",
              "      border-right-color: var(--fill-color);\n",
              "      border-bottom-color: var(--fill-color);\n",
              "    }\n",
              "    90% {\n",
              "      border-color: transparent;\n",
              "      border-bottom-color: var(--fill-color);\n",
              "    }\n",
              "  }\n",
              "</style>\n",
              "\n",
              "  <script>\n",
              "    async function quickchart(key) {\n",
              "      const quickchartButtonEl =\n",
              "        document.querySelector('#' + key + ' button');\n",
              "      quickchartButtonEl.disabled = true;  // To prevent multiple clicks.\n",
              "      quickchartButtonEl.classList.add('colab-df-spinner');\n",
              "      try {\n",
              "        const charts = await google.colab.kernel.invokeFunction(\n",
              "            'suggestCharts', [key], {});\n",
              "      } catch (error) {\n",
              "        console.error('Error during call to suggestCharts:', error);\n",
              "      }\n",
              "      quickchartButtonEl.classList.remove('colab-df-spinner');\n",
              "      quickchartButtonEl.classList.add('colab-df-quickchart-complete');\n",
              "    }\n",
              "    (() => {\n",
              "      let quickchartButtonEl =\n",
              "        document.querySelector('#df-02a61875-3b36-4546-9329-8ec82bd980de button');\n",
              "      quickchartButtonEl.style.display =\n",
              "        google.colab.kernel.accessAllowed ? 'block' : 'none';\n",
              "    })();\n",
              "  </script>\n",
              "</div>\n",
              "\n",
              "    </div>\n",
              "  </div>\n"
            ],
            "application/vnd.google.colaboratory.intrinsic+json": {
              "type": "dataframe",
              "variable_name": "caso",
              "summary": "{\n  \"name\": \"caso\",\n  \"rows\": 42,\n  \"fields\": [\n    {\n      \"column\": \"Compra\",\n      \"properties\": {\n        \"dtype\": \"number\",\n        \"std\": 0,\n        \"min\": 0,\n        \"max\": 1,\n        \"num_unique_values\": 2,\n        \"samples\": [\n          0,\n          1\n        ],\n        \"semantic_type\": \"\",\n        \"description\": \"\"\n      }\n    },\n    {\n      \"column\": \"Ingresos\",\n      \"properties\": {\n        \"dtype\": \"number\",\n        \"std\": 12.181289559443632,\n        \"min\": 32.0,\n        \"max\": 75.0,\n        \"num_unique_values\": 38,\n        \"samples\": [\n          62.1,\n          54.5\n        ],\n        \"semantic_type\": \"\",\n        \"description\": \"\"\n      }\n    }\n  ]\n}"
            }
          },
          "metadata": {},
          "execution_count": 11
        }
      ]
    },
    {
      "cell_type": "code",
      "source": [
        "# Gráfico de dispersión\n",
        "plt.scatter(caso['Ingresos'], caso['Compra'], color='blue')\n",
        "plt.title('Gráfico de dispersión')\n",
        "plt.xlabel('Ingresos')\n",
        "plt.ylabel('Compra')\n",
        "plt.show()"
      ],
      "metadata": {
        "colab": {
          "base_uri": "https://localhost:8080/",
          "height": 472
        },
        "id": "n6gSPOb55g5v",
        "outputId": "a24785a1-82d3-4f23-80fc-d5f021ae89bf"
      },
      "execution_count": 13,
      "outputs": [
        {
          "output_type": "display_data",
          "data": {
            "text/plain": [
              "<Figure size 640x480 with 1 Axes>"
            ],
            "image/png": "[encoded data removed]"
          },
          "metadata": {}
        }
      ]
    },
    {
      "cell_type": "code",
      "source": [
        "# Boxplot\n",
        "sns.boxplot(x='Compra', y='Ingresos', data=caso, palette='Greens')\n",
        "plt.title('Boxplot de Ingresos por Compra')\n",
        "plt.show()"
      ],
      "metadata": {
        "colab": {
          "base_uri": "https://localhost:8080/",
          "height": 559
        },
        "id": "TZ-mQ4RG5jYO",
        "outputId": "64294bd8-7fe2-4a26-b871-5aeb1f550307"
      },
      "execution_count": 14,
      "outputs": [
        {
          "output_type": "stream",
          "name": "stderr",
          "text": [
            "<ipython-input-14-0fb62a74b7ad>:2: FutureWarning: \n",
            "\n",
            "Passing `palette` without assigning `hue` is deprecated and will be removed in v0.14.0. Assign the `x` variable to `hue` and set `legend=False` for the same effect.\n",
            "\n",
            "  sns.boxplot(x='Compra', y='Ingresos', data=caso, palette='Greens')\n"
          ]
        },
        {
          "output_type": "display_data",
          "data": {
            "text/plain": [
              "<Figure size 640x480 with 1 Axes>"
            ],
            "image/png": "[encoded data removed]"
          },
          "metadata": {}
        }
      ]
    },
    {
      "cell_type": "code",
      "source": [
        "# Tabla de frecuencias de la variable dependiente\n",
        "frecuencia_compra = caso['Compra'].value_counts()\n",
        "frecuencia_compra"
      ],
      "metadata": {
        "colab": {
          "base_uri": "https://localhost:8080/",
          "height": 178
        },
        "id": "89duUFXW5k9v",
        "outputId": "ec4899cd-d59e-4c8b-cd50-30596645e854"
      },
      "execution_count": 15,
      "outputs": [
        {
          "output_type": "execute_result",
          "data": {
            "text/plain": [
              "Compra\n",
              "1    22\n",
              "0    20\n",
              "Name: count, dtype: int64"
            ],
            "text/html": [
              "<div>\n",
              "<style scoped>\n",
              "    .dataframe tbody tr th:only-of-type {\n",
              "        vertical-align: middle;\n",
              "    }\n",
              "\n",
              "    .dataframe tbody tr th {\n",
              "        vertical-align: top;\n",
              "    }\n",
              "\n",
              "    .dataframe thead th {\n",
              "        text-align: right;\n",
              "    }\n",
              "</style>\n",
              "<table border=\"1\" class=\"dataframe\">\n",
              "  <thead>\n",
              "    <tr style=\"text-align: right;\">\n",
              "      <th></th>\n",
              "      <th>count</th>\n",
              "    </tr>\n",
              "    <tr>\n",
              "      <th>Compra</th>\n",
              "      <th></th>\n",
              "    </tr>\n",
              "  </thead>\n",
              "  <tbody>\n",
              "    <tr>\n",
              "      <th>1</th>\n",
              "      <td>22</td>\n",
              "    </tr>\n",
              "    <tr>\n",
              "      <th>0</th>\n",
              "      <td>20</td>\n",
              "    </tr>\n",
              "  </tbody>\n",
              "</table>\n",
              "</div><br><label><b>dtype:</b> int64</label>"
            ]
          },
          "metadata": {},
          "execution_count": 15
        }
      ]
    },
    {
      "cell_type": "markdown",
      "source": [
        "Hay 22 observaciones donde se realizó una compra (Compra = 1) y 20 donde no se realizó (Compra = 0)."
      ],
      "metadata": {
        "id": "ttmngwRf5rkW"
      }
    },
    {
      "cell_type": "code",
      "source": [
        "# 2. Estimación del modelo\n",
        "\n",
        "# Añadir constante para la intersección en el modelo\n",
        "X = sm.add_constant(caso['Ingresos'])\n",
        "y = caso['Compra']\n",
        "\n",
        "# Ajustar el modelo de regresión logística\n",
        "modelo = sm.Logit(y, X).fit()\n",
        "modelo_summary = modelo.summary()\n",
        "\n",
        "# Odds ratio\n",
        "odds_ratios = np.exp(modelo.params)\n",
        "\n",
        "# Ejemplo de predicción con ingresos de 51 unidades\n",
        "x_new = np.array([1, 51])\n",
        "probabilidad_compra = np.exp(np.dot(x_new, modelo.params)) / (1 + np.exp(np.dot(x_new, modelo.params)))\n",
        "\n",
        "modelo_summary, odds_ratios, probabilidad_compra"
      ],
      "metadata": {
        "colab": {
          "base_uri": "https://localhost:8080/"
        },
        "id": "mRYwSEwF5nMe",
        "outputId": "ebb772ad-4a8c-4e7b-81b2-d24e1c082ea4"
      },
      "execution_count": 16,
      "outputs": [
        {
          "output_type": "stream",
          "name": "stdout",
          "text": [
            "Optimization terminated successfully.\n",
            "         Current function value: 0.342110\n",
            "         Iterations 7\n"
          ]
        },
        {
          "output_type": "execute_result",
          "data": {
            "text/plain": [
              "(<class 'statsmodels.iolib.summary.Summary'>\n",
              " \"\"\"\n",
              "                            Logit Regression Results                           \n",
              " ==============================================================================\n",
              " Dep. Variable:                 Compra   No. Observations:                   42\n",
              " Model:                          Logit   Df Residuals:                       40\n",
              " Method:                           MLE   Df Model:                            1\n",
              " Date:                Sun, 01 Sep 2024   Pseudo R-squ.:                  0.5056\n",
              " Time:                        18:44:27   Log-Likelihood:                -14.369\n",
              " converged:                       True   LL-Null:                       -29.065\n",
              " Covariance Type:            nonrobust   LLR p-value:                 5.913e-08\n",
              " ==============================================================================\n",
              "                  coef    std err          z      P>|z|      [0.025      0.975]\n",
              " ------------------------------------------------------------------------------\n",
              " const        -11.4492      3.380     -3.388      0.001     -18.073      -4.825\n",
              " Ingresos       0.2371      0.070      3.399      0.001       0.100       0.374\n",
              " ==============================================================================\n",
              " \"\"\",\n",
              " const       0.000011\n",
              " Ingresos    1.267616\n",
              " dtype: float64,\n",
              " 0.6558546853971597)"
            ]
          },
          "metadata": {},
          "execution_count": 16
        }
      ]
    },
    {
      "cell_type": "markdown",
      "source": [
        "La constante (const) tiene un coeficiente de\n",
        "−11.4492 con un valor p muy significativo (\n",
        "𝑝\n",
        "<\n",
        "0.01), lo que indica que es estadísticamente significativa."
      ],
      "metadata": {
        "id": "h-SQ9iC96Aym"
      }
    },
    {
      "cell_type": "markdown",
      "source": [
        "El Odds Ratio para Ingresos es\n",
        "1.2676, indicando que por cada unidad adicional de ingresos, las probabilidades de que ocurra una compra aumentan en un 26.76%.\n"
      ],
      "metadata": {
        "id": "atGvLcRl7Ou2"
      }
    },
    {
      "cell_type": "markdown",
      "source": [
        "La probabilidad de compra para un ingreso de 51 unidades es aproximadamente\n",
        "65.6%."
      ],
      "metadata": {
        "id": "PfRvy2xp7UBm"
      }
    },
    {
      "cell_type": "code",
      "source": [
        "# 3. Evaluación del modelo\n",
        "\n",
        "# 3.1 Forma clásica\n",
        "\n",
        "# Predicciones\n",
        "estim = modelo.predict(X)\n",
        "\n",
        "# Punto de corte 0.5\n",
        "cla1 = (estim > 0.5).astype(int)\n",
        "mc1 = confusion_matrix(y, cla1)\n",
        "precision_0_5 = accuracy_score(y, cla1) * 100\n",
        "precision_0_5"
      ],
      "metadata": {
        "colab": {
          "base_uri": "https://localhost:8080/"
        },
        "id": "-DkL227v7Wrn",
        "outputId": "2ba15015-6092-4421-e8be-a370e1f639ce"
      },
      "execution_count": 19,
      "outputs": [
        {
          "output_type": "execute_result",
          "data": {
            "text/plain": [
              "88.09523809523809"
            ]
          },
          "metadata": {},
          "execution_count": 19
        }
      ]
    },
    {
      "cell_type": "markdown",
      "source": [
        "La precisión obtenida con un punto de corte de 0.5 (precision_0_5) que es de 88.1% indica que el modelo tiene un buen rendimiento en términos de clasificar correctamente las observaciones en el conjunto de datos. Esta métrica sugiere que el 88.1% de las predicciones realizadas por el modelo coinciden con los valores reales de la variable Compra."
      ],
      "metadata": {
        "id": "Iraylhxq8BBF"
      }
    },
    {
      "cell_type": "code",
      "source": [
        "# 3.2 Validación Cruzada\n",
        "\n",
        "# Dividir los datos en conjuntos de entrenamiento y prueba\n",
        "train_set, test_set = train_test_split(caso, test_size=0.2, random_state=555)\n",
        "\n",
        "# Ajustar el modelo en el conjunto de entrenamiento\n",
        "X_train = sm.add_constant(train_set['Ingresos'])\n",
        "y_train = train_set['Compra']\n",
        "modelo1 = sm.Logit(y_train, X_train).fit()\n",
        "\n",
        "# Predicciones en el conjunto de prueba\n",
        "X_test = sm.add_constant(test_set['Ingresos'])\n",
        "prob = modelo1.predict(X_test)\n",
        "yes = (prob > 0.5).astype(int)\n",
        "\n",
        "# Matriz de confusión y precisión en el conjunto de prueba\n",
        "mc3 = confusion_matrix(test_set['Compra'], yes)\n",
        "precision_validacion = accuracy_score(test_set['Compra'], yes) * 100\n",
        "\n",
        "(mc1, precision_0_5)"
      ],
      "metadata": {
        "colab": {
          "base_uri": "https://localhost:8080/"
        },
        "id": "5qzmIARc7mht",
        "outputId": "57c91c97-ca75-43f5-f316-0b54b40c3592"
      },
      "execution_count": 22,
      "outputs": [
        {
          "output_type": "stream",
          "name": "stdout",
          "text": [
            "Optimization terminated successfully.\n",
            "         Current function value: 0.351245\n",
            "         Iterations 7\n"
          ]
        },
        {
          "output_type": "execute_result",
          "data": {
            "text/plain": [
              "(array([[17,  3],\n",
              "        [ 2, 20]]),\n",
              " 88.09523809523809)"
            ]
          },
          "metadata": {},
          "execution_count": 22
        }
      ]
    },
    {
      "cell_type": "markdown",
      "source": [
        "Precisión: 88.1%\n",
        "\n",
        "Esto significa que el modelo clasifica correctamente el 88.1% de las observaciones con un punto de corte de 0.5. Tiene 3 falsos positivos y 2 falsos negativos."
      ],
      "metadata": {
        "id": "8E9WfV1n8x1W"
      }
    },
    {
      "cell_type": "code",
      "source": [
        "\n",
        "(mc3, precision_validacion)"
      ],
      "metadata": {
        "colab": {
          "base_uri": "https://localhost:8080/"
        },
        "id": "NmMwPvVD8ZVG",
        "outputId": "be012c1d-6e6b-4544-ed5c-9aec7fd32bc4"
      },
      "execution_count": 24,
      "outputs": [
        {
          "output_type": "execute_result",
          "data": {
            "text/plain": [
              "(array([[1, 1],\n",
              "        [1, 6]]),\n",
              " 77.77777777777779)"
            ]
          },
          "metadata": {},
          "execution_count": 24
        }
      ]
    },
    {
      "cell_type": "markdown",
      "source": [
        "Validación Cruzada:\n",
        "\n",
        "Precisión: 77.8%\n",
        "\n",
        "La validación cruzada muestra una precisión del 77.8%, lo que es razonablemente cercano a la precisión obtenida con el punto de corte de 0.7 en el conjunto completo."
      ],
      "metadata": {
        "id": "caFmkG-28-GF"
      }
    },
    {
      "cell_type": "markdown",
      "source": [
        "podemos predecir si una persona con un ingreso de 51 unidades realizará una compra."
      ],
      "metadata": {
        "id": "sqZKTZAb9q0z"
      }
    },
    {
      "cell_type": "code",
      "source": [
        "# Especificar el valor de ingreso para la predicción\n",
        "ingreso = 51\n",
        "\n",
        "# Crear el array de entrada para el modelo (incluyendo la constante)\n",
        "x_nuevo = np.array([1, ingreso])\n",
        "\n",
        "# Calcular la probabilidad de compra\n",
        "probabilidad_compra = np.exp(np.dot(x_nuevo, modelo.params)) / (1 + np.exp(np.dot(x_nuevo, modelo.params)))\n",
        "\n",
        "print(f\"La probabilidad de compra para un ingreso de {ingreso} es: {probabilidad_compra:.4f}\")\n"
      ],
      "metadata": {
        "colab": {
          "base_uri": "https://localhost:8080/"
        },
        "id": "vR0kXbDX9RP8",
        "outputId": "8a0dcaae-fb3d-4e18-8b23-20c32f643251"
      },
      "execution_count": 32,
      "outputs": [
        {
          "output_type": "stream",
          "name": "stdout",
          "text": [
            "La probabilidad de compra para un ingreso de 51 es: 0.6559\n"
          ]
        }
      ]
    }
  ]
}