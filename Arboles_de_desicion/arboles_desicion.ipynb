{
 "cells": [
  {
   "cell_type": "markdown",
   "metadata": {},
   "source": [
    "## Predicción del riesgo de diabetes en etapa temprana"
   ]
  },
  {
   "cell_type": "markdown",
   "metadata": {},
   "source": [
    "Los datos fueron recopilados a partir de cuestionarios directos a los pacientes del Hospital de Diabetes Sylhet en Sylhet, Bangladesh, con el fin de analizar los factores de riesgo asociados con la diabetes tipo 2. Este estudio fue aprobado por un médico y tiene como objetivo mejorar la identificación temprana de la diabetes en la región.\n",
    "\n",
    "**Modelos Utilizados:**\n",
    "Se utilizaron los siguientes modelos para el análisis de los datos:\n",
    "\n",
    "**Random Forest**\n",
    "\n",
    "**Bagging**\n",
    "\n",
    "**AdaBoost**\n",
    "\n",
    "**Gradient Boosting**\n",
    "\n",
    "**Objetivo del Estudio:**\n",
    "Identificar los factores de riesgo clave para la diabetes tipo 2 y desarrollar modelos predictivos eficaces para ayudar a los profesionales de la salud a predecir la enfermedad en base a los datos recopilados."
   ]
  },
  {
   "cell_type": "markdown",
   "metadata": {},
   "source": [
    "| **Atributo**                  | **Descripción**                        | **Valores posibles**        |\n",
    "|--------------------------------|-----------------------------------------|-----------------------------|\n",
    "| **Edad**                      | Rango de edad                          | 1: 20-65                   |\n",
    "| **Sexo**                      | Género del individuo                   | 1: Masculino, 2: Femenino  |\n",
    "| **Poliuria**                  | Frecuencia urinaria elevada            | 1: Sí, 2: No               |\n",
    "| **Polidipsia**                | Sed excesiva                           | 1: Sí, 2: No               |\n",
    "| **Pérdida de peso**           | Pérdida rápida de peso                 | 1: Sí, 2: No               |\n",
    "| **Debilidad**                 | Sensación de debilidad                 | 1: Sí, 2: No               |\n",
    "| **Polifagia**                 | Aumento anormal del apetito            | 1: Sí, 2: No               |\n",
    "| **Candidiasis genital**       | Infección por hongos genitales         | 1: Sí, 2: No               |\n",
    "| **Visión borrosa**            | Dificultad para ver claramente         | 1: Sí, 2: No               |\n",
    "| **Prurito**                   | Sensación de picazón                   | 1: Sí, 2: No               |\n",
    "| **Irritabilidad**             | Cambios frecuentes de humor            | 1: Sí, 2: No               |\n",
    "| **Retraso en cicatrización**  | Heridas tardan en sanar                | 1: Sí, 2: No               |\n",
    "| **Parálisis parcial**         | Pérdida parcial de capacidad motora    | 1: Sí, 2: No               |\n",
    "| **Rigidez muscular**          | Dificultad o rigidez en músculos       | 1: Sí, 2: No               |\n",
    "| **Alopecia**                  | Pérdida de cabello                     | 1: Sí, 2: No               |\n",
    "| **Obesidad**                  | Índice de masa corporal elevado        | 1: Sí, 2: No               |\n",
    "| **Clase**                     | Diagnóstico de diabetes                | 1: Positiva, 2: Negativa   |\n",
    "\n"
   ]
  },
  {
   "cell_type": "markdown",
   "metadata": {},
   "source": [
    "# Importación de librerías necesarias"
   ]
  },
  {
   "cell_type": "code",
   "execution_count": 4,
   "metadata": {},
   "outputs": [],
   "source": [
    "\n",
    "import pandas as pd  # Para manipulación de datos en formato DataFrame\n",
    "import numpy as np  # Para operaciones numéricas\n",
    "import matplotlib.pyplot as plt  # Para graficar\n",
    "import seaborn as sns  # Para visualizaciones estadísticas\n",
    "\n",
    "from sklearn.model_selection import train_test_split  # División de datos\n",
    "from sklearn.preprocessing import StandardScaler  # Estandarización de características\n",
    "from sklearn.decomposition import PCA  # Análisis de Componentes Principales\n",
    "\n",
    "from sklearn.ensemble import RandomForestClassifier, BaggingClassifier, GradientBoostingClassifier, AdaBoostClassifier  # Clasificadores\n"
   ]
  },
  {
   "cell_type": "markdown",
   "metadata": {},
   "source": [
    "# Carga y exploración inicial del conjunto de datos"
   ]
  },
  {
   "cell_type": "code",
   "execution_count": 5,
   "metadata": {},
   "outputs": [
    {
     "name": "stdout",
     "output_type": "stream",
     "text": [
      "<class 'pandas.core.frame.DataFrame'>\n",
      "RangeIndex: 520 entries, 0 to 519\n",
      "Data columns (total 17 columns):\n",
      " #   Column              Non-Null Count  Dtype \n",
      "---  ------              --------------  ----- \n",
      " 0   Age                 520 non-null    int64 \n",
      " 1   Gender              520 non-null    object\n",
      " 2   Polyuria            520 non-null    object\n",
      " 3   Polydipsia          520 non-null    object\n",
      " 4   sudden weight loss  520 non-null    object\n",
      " 5   weakness            520 non-null    object\n",
      " 6   Polyphagia          520 non-null    object\n",
      " 7   Genital thrush      520 non-null    object\n",
      " 8   visual blurring     520 non-null    object\n",
      " 9   Itching             520 non-null    object\n",
      " 10  Irritability        520 non-null    object\n",
      " 11  delayed healing     520 non-null    object\n",
      " 12  partial paresis     520 non-null    object\n",
      " 13  muscle stiffness    520 non-null    object\n",
      " 14  Alopecia            520 non-null    object\n",
      " 15  Obesity             520 non-null    object\n",
      " 16  class               520 non-null    object\n",
      "dtypes: int64(1), object(16)\n",
      "memory usage: 69.2+ KB\n"
     ]
    },
    {
     "data": {
      "text/plain": [
       "Age                   0\n",
       "Gender                0\n",
       "Polyuria              0\n",
       "Polydipsia            0\n",
       "sudden weight loss    0\n",
       "weakness              0\n",
       "Polyphagia            0\n",
       "Genital thrush        0\n",
       "visual blurring       0\n",
       "Itching               0\n",
       "Irritability          0\n",
       "delayed healing       0\n",
       "partial paresis       0\n",
       "muscle stiffness      0\n",
       "Alopecia              0\n",
       "Obesity               0\n",
       "class                 0\n",
       "dtype: int64"
      ]
     },
     "execution_count": 5,
     "metadata": {},
     "output_type": "execute_result"
    }
   ],
   "source": [
    "df = pd.read_csv(\"diabetes_data_upload.csv\")  # Carga de datos desde archivo CSV\n",
    "df.head()  # Muestra las primeras filas del conjunto de datos\n",
    "df.shape  # Obtiene el tamaño (filas, columnas) del conjunto de datos\n",
    "df.info()  # Muestra información sobre las columnas y los tipos de datos\n",
    "df.isnull().sum()  # Cuenta los valores nulos en cada columna"
   ]
  },
  {
   "cell_type": "markdown",
   "metadata": {},
   "source": [
    "# Limpieza y preprocesamiento de los datos"
   ]
  },
  {
   "cell_type": "code",
   "execution_count": 6,
   "metadata": {},
   "outputs": [
    {
     "data": {
      "text/html": [
       "<div>\n",
       "<style scoped>\n",
       "    .dataframe tbody tr th:only-of-type {\n",
       "        vertical-align: middle;\n",
       "    }\n",
       "\n",
       "    .dataframe tbody tr th {\n",
       "        vertical-align: top;\n",
       "    }\n",
       "\n",
       "    .dataframe thead th {\n",
       "        text-align: right;\n",
       "    }\n",
       "</style>\n",
       "<table border=\"1\" class=\"dataframe\">\n",
       "  <thead>\n",
       "    <tr style=\"text-align: right;\">\n",
       "      <th></th>\n",
       "      <th>Age</th>\n",
       "      <th>class</th>\n",
       "      <th>Gender_Female</th>\n",
       "      <th>Gender_Male</th>\n",
       "      <th>Polyuria_No</th>\n",
       "      <th>Polyuria_Yes</th>\n",
       "      <th>Polydipsia_No</th>\n",
       "      <th>Polydipsia_Yes</th>\n",
       "      <th>sudden weight loss_No</th>\n",
       "      <th>sudden weight loss_Yes</th>\n",
       "      <th>...</th>\n",
       "      <th>delayed healing_No</th>\n",
       "      <th>delayed healing_Yes</th>\n",
       "      <th>partial paresis_No</th>\n",
       "      <th>partial paresis_Yes</th>\n",
       "      <th>muscle stiffness_No</th>\n",
       "      <th>muscle stiffness_Yes</th>\n",
       "      <th>Alopecia_No</th>\n",
       "      <th>Alopecia_Yes</th>\n",
       "      <th>Obesity_No</th>\n",
       "      <th>Obesity_Yes</th>\n",
       "    </tr>\n",
       "  </thead>\n",
       "  <tbody>\n",
       "    <tr>\n",
       "      <th>0</th>\n",
       "      <td>40</td>\n",
       "      <td>Positive</td>\n",
       "      <td>False</td>\n",
       "      <td>True</td>\n",
       "      <td>True</td>\n",
       "      <td>False</td>\n",
       "      <td>False</td>\n",
       "      <td>True</td>\n",
       "      <td>True</td>\n",
       "      <td>False</td>\n",
       "      <td>...</td>\n",
       "      <td>False</td>\n",
       "      <td>True</td>\n",
       "      <td>True</td>\n",
       "      <td>False</td>\n",
       "      <td>False</td>\n",
       "      <td>True</td>\n",
       "      <td>False</td>\n",
       "      <td>True</td>\n",
       "      <td>False</td>\n",
       "      <td>True</td>\n",
       "    </tr>\n",
       "    <tr>\n",
       "      <th>1</th>\n",
       "      <td>58</td>\n",
       "      <td>Positive</td>\n",
       "      <td>False</td>\n",
       "      <td>True</td>\n",
       "      <td>True</td>\n",
       "      <td>False</td>\n",
       "      <td>True</td>\n",
       "      <td>False</td>\n",
       "      <td>True</td>\n",
       "      <td>False</td>\n",
       "      <td>...</td>\n",
       "      <td>True</td>\n",
       "      <td>False</td>\n",
       "      <td>False</td>\n",
       "      <td>True</td>\n",
       "      <td>True</td>\n",
       "      <td>False</td>\n",
       "      <td>False</td>\n",
       "      <td>True</td>\n",
       "      <td>True</td>\n",
       "      <td>False</td>\n",
       "    </tr>\n",
       "    <tr>\n",
       "      <th>2</th>\n",
       "      <td>41</td>\n",
       "      <td>Positive</td>\n",
       "      <td>False</td>\n",
       "      <td>True</td>\n",
       "      <td>False</td>\n",
       "      <td>True</td>\n",
       "      <td>True</td>\n",
       "      <td>False</td>\n",
       "      <td>True</td>\n",
       "      <td>False</td>\n",
       "      <td>...</td>\n",
       "      <td>False</td>\n",
       "      <td>True</td>\n",
       "      <td>True</td>\n",
       "      <td>False</td>\n",
       "      <td>False</td>\n",
       "      <td>True</td>\n",
       "      <td>False</td>\n",
       "      <td>True</td>\n",
       "      <td>True</td>\n",
       "      <td>False</td>\n",
       "    </tr>\n",
       "    <tr>\n",
       "      <th>3</th>\n",
       "      <td>45</td>\n",
       "      <td>Positive</td>\n",
       "      <td>False</td>\n",
       "      <td>True</td>\n",
       "      <td>True</td>\n",
       "      <td>False</td>\n",
       "      <td>True</td>\n",
       "      <td>False</td>\n",
       "      <td>False</td>\n",
       "      <td>True</td>\n",
       "      <td>...</td>\n",
       "      <td>False</td>\n",
       "      <td>True</td>\n",
       "      <td>True</td>\n",
       "      <td>False</td>\n",
       "      <td>True</td>\n",
       "      <td>False</td>\n",
       "      <td>True</td>\n",
       "      <td>False</td>\n",
       "      <td>True</td>\n",
       "      <td>False</td>\n",
       "    </tr>\n",
       "    <tr>\n",
       "      <th>4</th>\n",
       "      <td>60</td>\n",
       "      <td>Positive</td>\n",
       "      <td>False</td>\n",
       "      <td>True</td>\n",
       "      <td>False</td>\n",
       "      <td>True</td>\n",
       "      <td>False</td>\n",
       "      <td>True</td>\n",
       "      <td>False</td>\n",
       "      <td>True</td>\n",
       "      <td>...</td>\n",
       "      <td>False</td>\n",
       "      <td>True</td>\n",
       "      <td>False</td>\n",
       "      <td>True</td>\n",
       "      <td>False</td>\n",
       "      <td>True</td>\n",
       "      <td>False</td>\n",
       "      <td>True</td>\n",
       "      <td>False</td>\n",
       "      <td>True</td>\n",
       "    </tr>\n",
       "  </tbody>\n",
       "</table>\n",
       "<p>5 rows × 32 columns</p>\n",
       "</div>"
      ],
      "text/plain": [
       "   Age     class  Gender_Female  Gender_Male  Polyuria_No  Polyuria_Yes  \\\n",
       "0   40  Positive          False         True         True         False   \n",
       "1   58  Positive          False         True         True         False   \n",
       "2   41  Positive          False         True        False          True   \n",
       "3   45  Positive          False         True         True         False   \n",
       "4   60  Positive          False         True        False          True   \n",
       "\n",
       "   Polydipsia_No  Polydipsia_Yes  sudden weight loss_No  \\\n",
       "0          False            True                   True   \n",
       "1           True           False                   True   \n",
       "2           True           False                   True   \n",
       "3           True           False                  False   \n",
       "4          False            True                  False   \n",
       "\n",
       "   sudden weight loss_Yes  ...  delayed healing_No  delayed healing_Yes  \\\n",
       "0                   False  ...               False                 True   \n",
       "1                   False  ...                True                False   \n",
       "2                   False  ...               False                 True   \n",
       "3                    True  ...               False                 True   \n",
       "4                    True  ...               False                 True   \n",
       "\n",
       "   partial paresis_No  partial paresis_Yes  muscle stiffness_No  \\\n",
       "0                True                False                False   \n",
       "1               False                 True                 True   \n",
       "2                True                False                False   \n",
       "3                True                False                 True   \n",
       "4               False                 True                False   \n",
       "\n",
       "   muscle stiffness_Yes  Alopecia_No  Alopecia_Yes  Obesity_No  Obesity_Yes  \n",
       "0                  True        False          True       False         True  \n",
       "1                 False        False          True        True        False  \n",
       "2                  True        False          True        True        False  \n",
       "3                 False         True         False        True        False  \n",
       "4                  True        False          True       False         True  \n",
       "\n",
       "[5 rows x 32 columns]"
      ]
     },
     "execution_count": 6,
     "metadata": {},
     "output_type": "execute_result"
    }
   ],
   "source": [
    "\n",
    "df['Age'] = df['Age'].clip(lower=24, upper=76)  # Limita la edad entre 24 y 76 años\n",
    "df.columns  # Muestra los nombres de las columnas\n",
    "\n",
    "# Transformación de variables categóricas a variables dummy\n",
    "features_cat = [\n",
    "    'Gender', 'Polyuria', 'Polydipsia', 'sudden weight loss', 'weakness',\n",
    "    'Polyphagia', 'Genital thrush', 'visual blurring', 'Itching', 'Irritability',\n",
    "    'delayed healing', 'partial paresis', 'muscle stiffness', 'Alopecia', 'Obesity'\n",
    "]\n",
    "df = pd.get_dummies(df, columns=features_cat)  # Crea variables binarias para categorías\n",
    "\n",
    "df.shape  # Verifica el tamaño después de la transformación\n",
    "df.head()  # Revisa las primeras filas tras la transformación\n"
   ]
  },
  {
   "cell_type": "markdown",
   "metadata": {},
   "source": [
    "# Definición de características (features) y objetivo (target)"
   ]
  },
  {
   "cell_type": "code",
   "execution_count": 7,
   "metadata": {},
   "outputs": [],
   "source": [
    "features = [\n",
    "    'Age', 'Gender_Female', 'Gender_Male', 'Polyuria_No', 'Polyuria_Yes', \n",
    "    'Polydipsia_No', 'Polydipsia_Yes', 'sudden weight loss_No', \n",
    "    'sudden weight loss_Yes', 'weakness_No', 'weakness_Yes', \n",
    "    'Polyphagia_No', 'Polyphagia_Yes', 'Genital thrush_No', 'Genital thrush_Yes', \n",
    "    'visual blurring_No', 'visual blurring_Yes', 'Itching_No', 'Itching_Yes', \n",
    "    'Irritability_No', 'Irritability_Yes', 'delayed healing_No', \n",
    "    'delayed healing_Yes', 'partial paresis_No', 'partial paresis_Yes', \n",
    "    'muscle stiffness_No', 'muscle stiffness_Yes', 'Alopecia_No', \n",
    "    'Alopecia_Yes', 'Obesity_No', 'Obesity_Yes'\n",
    "]\n",
    "target = ['class']\n",
    "\n",
    "X = df[features]  # Conjunto de características\n",
    "y = df[target]  # Variable objetivo\n",
    "\n",
    "# División de los datos en conjuntos de entrenamiento y prueba\n",
    "X_tr, X_ts, y_tr, y_ts = train_test_split(X, y, test_size=0.3)  # 70% entrenamiento, 30% prueba\n"
   ]
  },
  {
   "cell_type": "markdown",
   "metadata": {},
   "source": [
    "# Escalado y reducción de dimensionalidad"
   ]
  },
  {
   "cell_type": "code",
   "execution_count": 8,
   "metadata": {},
   "outputs": [],
   "source": [
    "\n",
    "# Estandarización de características\n",
    "std_scaler = StandardScaler().fit(X_tr)  # Ajusta el estándar con los datos de entrenamiento\n",
    "X_tr = std_scaler.transform(X_tr)  # Escala los datos de entrenamiento\n",
    "X_ts = std_scaler.transform(X_ts)  # Escala los datos de prueba\n",
    "\n",
    "# Análisis de Componentes Principales (PCA)\n",
    "pca = PCA().fit(X_tr)  # Ajusta PCA con los datos de entrenamiento\n",
    "X_tr = pca.transform(X_tr)  # Aplica PCA a los datos de entrenamiento\n",
    "X_ts = pca.transform(X_ts)  # Aplica PCA a los datos de prueba"
   ]
  },
  {
   "cell_type": "markdown",
   "metadata": {},
   "source": [
    "# Definición de función para entrenar y evaluar modelos"
   ]
  },
  {
   "cell_type": "code",
   "execution_count": 9,
   "metadata": {},
   "outputs": [],
   "source": [
    "\n",
    "def model_factory(X_tr=X_tr, X_ts=X_ts, y_tr=y_tr, y_ts=y_ts, model=None):\n",
    "    model.fit(X_tr, y_tr)  # Entrena el modelo con los datos de entrenamiento\n",
    "    score_tr = model.score(X_tr, y_tr)  # Precisión en entrenamiento\n",
    "    score_ts = model.score(X_ts, y_ts)  # Precisión en prueba\n",
    "    return model, score_tr, score_ts  # Devuelve el modelo y las puntuaciones\n"
   ]
  },
  {
   "cell_type": "markdown",
   "metadata": {},
   "source": [
    "# Entrenamiento y evaluación de clasificadores\n"
   ]
  },
  {
   "cell_type": "code",
   "execution_count": 10,
   "metadata": {},
   "outputs": [
    {
     "name": "stderr",
     "output_type": "stream",
     "text": [
      "C:\\Users\\USUARIO\\AppData\\Local\\Packages\\PythonSoftwareFoundation.Python.3.10_qbz5n2kfra8p0\\LocalCache\\local-packages\\Python310\\site-packages\\sklearn\\base.py:1473: DataConversionWarning: A column-vector y was passed when a 1d array was expected. Please change the shape of y to (n_samples,), for example using ravel().\n",
      "  return fit_method(estimator, *args, **kwargs)\n",
      "C:\\Users\\USUARIO\\AppData\\Local\\Packages\\PythonSoftwareFoundation.Python.3.10_qbz5n2kfra8p0\\LocalCache\\local-packages\\Python310\\site-packages\\sklearn\\ensemble\\_bagging.py:888: DataConversionWarning: A column-vector y was passed when a 1d array was expected. Please change the shape of y to (n_samples, ), for example using ravel().\n",
      "  y = column_or_1d(y, warn=True)\n",
      "C:\\Users\\USUARIO\\AppData\\Local\\Packages\\PythonSoftwareFoundation.Python.3.10_qbz5n2kfra8p0\\LocalCache\\local-packages\\Python310\\site-packages\\sklearn\\utils\\validation.py:1339: DataConversionWarning: A column-vector y was passed when a 1d array was expected. Please change the shape of y to (n_samples, ), for example using ravel().\n",
      "  y = column_or_1d(y, warn=True)\n",
      "C:\\Users\\USUARIO\\AppData\\Local\\Packages\\PythonSoftwareFoundation.Python.3.10_qbz5n2kfra8p0\\LocalCache\\local-packages\\Python310\\site-packages\\sklearn\\ensemble\\_weight_boosting.py:527: FutureWarning: The SAMME.R algorithm (the default) is deprecated and will be removed in 1.6. Use the SAMME algorithm to circumvent this warning.\n",
      "  warnings.warn(\n",
      "C:\\Users\\USUARIO\\AppData\\Local\\Packages\\PythonSoftwareFoundation.Python.3.10_qbz5n2kfra8p0\\LocalCache\\local-packages\\Python310\\site-packages\\sklearn\\preprocessing\\_label.py:114: DataConversionWarning: A column-vector y was passed when a 1d array was expected. Please change the shape of y to (n_samples, ), for example using ravel().\n",
      "  y = column_or_1d(y, warn=True)\n"
     ]
    }
   ],
   "source": [
    "\n",
    "rf = RandomForestClassifier()  # Random Forest\n",
    "rf, score_tr_rf, score_ts_rf = model_factory(model=rf)\n",
    "\n",
    "bag = BaggingClassifier()  # Bagging\n",
    "bag, score_tr_bag, score_ts_bag = model_factory(model=bag)\n",
    "\n",
    "ada = AdaBoostClassifier()  # AdaBoost\n",
    "ada, score_tr_ada, score_ts_ada = model_factory(model=ada)\n",
    "\n",
    "gbc = GradientBoostingClassifier()  # Gradient Boosting\n",
    "gbc, score_tr_gbc, score_ts_gbc = model_factory(model=gbc)"
   ]
  },
  {
   "cell_type": "markdown",
   "metadata": {},
   "source": [
    "# Comparación de resultados entre modelos\n"
   ]
  },
  {
   "cell_type": "code",
   "execution_count": 11,
   "metadata": {},
   "outputs": [
    {
     "data": {
      "text/html": [
       "<div>\n",
       "<style scoped>\n",
       "    .dataframe tbody tr th:only-of-type {\n",
       "        vertical-align: middle;\n",
       "    }\n",
       "\n",
       "    .dataframe tbody tr th {\n",
       "        vertical-align: top;\n",
       "    }\n",
       "\n",
       "    .dataframe thead th {\n",
       "        text-align: right;\n",
       "    }\n",
       "</style>\n",
       "<table border=\"1\" class=\"dataframe\">\n",
       "  <thead>\n",
       "    <tr style=\"text-align: right;\">\n",
       "      <th></th>\n",
       "      <th>train_score</th>\n",
       "      <th>test_score</th>\n",
       "    </tr>\n",
       "  </thead>\n",
       "  <tbody>\n",
       "    <tr>\n",
       "      <th>randforest</th>\n",
       "      <td>1.0</td>\n",
       "      <td>0.967949</td>\n",
       "    </tr>\n",
       "    <tr>\n",
       "      <th>bagging</th>\n",
       "      <td>1.0</td>\n",
       "      <td>0.967949</td>\n",
       "    </tr>\n",
       "    <tr>\n",
       "      <th>adaboost</th>\n",
       "      <td>1.0</td>\n",
       "      <td>0.961538</td>\n",
       "    </tr>\n",
       "    <tr>\n",
       "      <th>gradientboost</th>\n",
       "      <td>1.0</td>\n",
       "      <td>0.961538</td>\n",
       "    </tr>\n",
       "  </tbody>\n",
       "</table>\n",
       "</div>"
      ],
      "text/plain": [
       "               train_score  test_score\n",
       "randforest             1.0    0.967949\n",
       "bagging                1.0    0.967949\n",
       "adaboost               1.0    0.961538\n",
       "gradientboost          1.0    0.961538"
      ]
     },
     "execution_count": 11,
     "metadata": {},
     "output_type": "execute_result"
    }
   ],
   "source": [
    "\n",
    "tr_scores = [score_tr_rf, score_tr_bag, score_tr_ada, score_tr_gbc]  # Puntuaciones en entrenamiento\n",
    "ts_scores = [score_ts_rf, score_ts_bag, score_ts_ada, score_ts_gbc]  # Puntuaciones en prueba\n",
    "\n",
    "models = ['randforest', 'bagging', 'adaboost', 'gradientboost']  # Nombres de modelos\n",
    "\n",
    "# Creación de un DataFrame para mostrar las puntuaciones\n",
    "dict_scores = {\n",
    "    'train_score': tr_scores,  # Precisión en entrenamiento\n",
    "    'test_score': ts_scores  # Precisión en prueba\n",
    "}\n",
    "\n",
    "# Visualización de las puntuaciones\n",
    "pd.DataFrame(dict_scores, index=models)"
   ]
  },
  {
   "cell_type": "markdown",
   "metadata": {},
   "source": []
  }
 ],
 "metadata": {
  "kernelspec": {
   "display_name": "Python 3",
   "language": "python",
   "name": "python3"
  },
  "language_info": {
   "codemirror_mode": {
    "name": "ipython",
    "version": 3
   },
   "file_extension": ".py",
   "mimetype": "text/x-python",
   "name": "python",
   "nbconvert_exporter": "python",
   "pygments_lexer": "ipython3",
   "version": "3.10.9"
  }
 },
 "nbformat": 4,
 "nbformat_minor": 2
}
