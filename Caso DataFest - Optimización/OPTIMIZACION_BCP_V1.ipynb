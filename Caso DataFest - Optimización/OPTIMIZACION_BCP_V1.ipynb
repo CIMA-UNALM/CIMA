{
 "cells": [
  {
   "cell_type": "markdown",
   "metadata": {},
   "source": [
    "# OPTIMIZACION VERSION 1"
   ]
  },
  {
   "cell_type": "markdown",
   "metadata": {},
   "source": [
    "En el presente notebook se realizará la optimización de el abastecimiento de ATM´s en los agentes de banca BCP en esta primera version se utilizarán datos simulados\n",
    "y se empleará el paquete Pyomo para la formulación y resolución del problema de optimización."
   ]
  },
  {
   "cell_type": "code",
   "execution_count": null,
   "metadata": {},
   "outputs": [],
   "source": [
    "# Optimizacón de recarrga de ATM´S con datos simulados "
   ]
  },
  {
   "cell_type": "code",
   "execution_count": null,
   "metadata": {},
   "outputs": [
    {
     "name": "stdout",
     "output_type": "stream",
     "text": [
      "GLPSOL: GLPK LP/MIP Solver, v4.65\n",
      "Parameter(s) specified in the command line:\n",
      " --write C:\\Users\\Arthur\\AppData\\Local\\Temp\\tmpz9m5smte.glpk.raw --wglp C:\\Users\\Arthur\\AppData\\Local\\Temp\\tmp900k8euo.glpk.glp\n",
      " --cpxlp C:\\Users\\Arthur\\AppData\\Local\\Temp\\tmpfza4izc4.pyomo.lp\n",
      "Reading problem data from 'C:\\Users\\Arthur\\AppData\\Local\\Temp\\tmpfza4izc4.pyomo.lp'...\n",
      "C:\\Users\\Arthur\\AppData\\Local\\Temp\\tmpfza4izc4.pyomo.lp:81: warning: lower bound of variable 'x10' redefined\n",
      "C:\\Users\\Arthur\\AppData\\Local\\Temp\\tmpfza4izc4.pyomo.lp:81: warning: upper bound of variable 'x10' redefined\n",
      "14 rows, 10 columns, 16 non-zeros\n",
      "7 integer variables, all of which are binary\n",
      "88 lines were read\n",
      "Writing problem data to 'C:\\Users\\Arthur\\AppData\\Local\\Temp\\tmp900k8euo.glpk.glp'...\n",
      "59 lines were written\n",
      "GLPK Integer Optimizer, v4.65\n",
      "14 rows, 10 columns, 16 non-zeros\n",
      "7 integer variables, all of which are binary\n",
      "Preprocessing...\n",
      "1 row, 3 columns, 3 non-zeros\n",
      "0 integer variables, none of which are binary\n",
      "Scaling...\n",
      " A: min|aij| =  1.000e+00  max|aij| =  1.000e+00  ratio =  1.000e+00\n",
      "Problem data seem to be well scaled\n",
      "Constructing initial basis...\n",
      "Size of triangular part is 1\n",
      "Solving LP relaxation...\n",
      "GLPK Simplex Optimizer, v4.65\n",
      "1 row, 3 columns, 3 non-zeros\n",
      "*     0: obj =   1.280000000e-01 inf =   0.000e+00 (0)\n",
      "OPTIMAL LP SOLUTION FOUND\n",
      "Integer optimization begins...\n",
      "Long-step dual simplex will be used\n",
      "+     0: mip =     not found yet >=              -inf        (1; 0)\n",
      "+     0: >>>>>   1.280000000e-01 >=   1.280000000e-01   0.0% (1; 0)\n",
      "+     0: mip =   1.280000000e-01 >=     tree is empty   0.0% (0; 1)\n",
      "INTEGER OPTIMAL SOLUTION FOUND\n",
      "Time used:   0.0 secs\n",
      "Memory used: 0.1 Mb (59725 bytes)\n",
      "Writing MIP solution to 'C:\\Users\\Arthur\\AppData\\Local\\Temp\\tmpz9m5smte.glpk.raw'...\n",
      "33 lines were written\n",
      "Cantidad abastecida por día y si se recarga ese día:\n",
      "Lunes: Cantidad abastecida = 8.00, Recarga: Sí\n",
      "Martes: Cantidad abastecida = 56.00, Recarga: Sí\n",
      "Jueves: Cantidad abastecida = 64.00, Recarga: Sí\n"
     ]
    }
   ],
   "source": [
    "from pyomo.environ import *\n",
    "import numpy as np\n",
    "\n",
    "# Datos de ejemplo\n",
    "dias = ['Lunes', 'Martes', 'Jueves']  # Días disponibles para recargar\n",
    "dias_totales = ['Lunes', 'Martes', 'Miércoles', 'Jueves', 'Viernes', 'Sábado', 'Domingo']\n",
    "n_dias = len(dias_totales)\n",
    "\n",
    "# Datos de la problemática\n",
    "disponibilidad_recarga = {'Lunes': 100, 'Martes': 120, 'Jueves': 90}  # Disponibilidad máxima para recarga en cada día\n",
    "demanda = np.array([10, 70, 60, 80, 50, 40, 90, 10, 10, 60, 10, 40, 70, 80])  # Ejemplo de demanda para 14 días\n",
    "saldo_inicial = 30  # Saldo inicial\n",
    "capacidad_maxima = 200  # Capacidad máxima\n",
    "\n",
    "# Crea el modelo de optimización\n",
    "model = ConcreteModel()\n",
    "\n",
    "# Variables\n",
    "model.x = Var(dias, domain=NonNegativeReals)  # Cantidad abastecida en cada día disponible\n",
    "model.dia_recarga = Var(dias_totales, domain=Binary)  # Día en el que se realiza la recarga (0 o 1)\n",
    "\n",
    "# Función objetivo: Minimizar el costo\n",
    "def costo_total(model):\n",
    "    return sum(0.001 * model.x[d] for d in dias)\n",
    "\n",
    "model.obj = Objective(rule=costo_total, sense=minimize)\n",
    "\n",
    "# Restricciones\n",
    "\n",
    "# Restricción de capacidad\n",
    "def restriccion_capacidad(model):\n",
    "    # El saldo inicial más la cantidad abastecida no debe exceder la capacidad máxima\n",
    "    # Aquí, el saldo más la cantidad abastecida no superará la capacidad máxima del sistema.\n",
    "    return saldo_inicial + sum(model.x[d] for d in dias) <= capacidad_maxima\n",
    "\n",
    "model.restriccion_capacidad = Constraint(rule=restriccion_capacidad)\n",
    "\n",
    "# Restricción de demanda\n",
    "def demanda_satisfecha(model, dia):\n",
    "    # Para cada día de recarga, la cantidad abastecida debe ser al menos la demanda.\n",
    "    if dia in dias:\n",
    "        idx = dias_totales.index(dia)\n",
    "        # En lugar de estrictamente igualar la demanda, podemos relajarla un poco\n",
    "        return model.x[dia] >= demanda[idx] * 0.8  # Ahora, satisface al menos el 80% de la demanda\n",
    "    else:\n",
    "        return Constraint.Skip\n",
    "\n",
    "model.restriccion_demanda = Constraint(dias_totales, rule=demanda_satisfecha)\n",
    "\n",
    "# Restricción de recarga: Solo se recarga en los días disponibles\n",
    "def restriccion_dia_recarga(model, dia):\n",
    "    # Solo se puede recargar en los días disponibles (Lunes, Martes, Jueves)\n",
    "    if dia in dias:\n",
    "        return model.dia_recarga[dia] == 1  # Se debe recargar en esos días\n",
    "    else:\n",
    "        return model.dia_recarga[dia] == 0  # No recargar en otros días\n",
    "\n",
    "model.restriccion_dia_recarga = Constraint(dias_totales, rule=restriccion_dia_recarga)\n",
    "\n",
    "# Restricción sobre la cantidad de recarga disponible en cada día\n",
    "def restriccion_disponibilidad_recarga(model, dia):\n",
    "    if dia in dias:\n",
    "        return model.x[dia] <= disponibilidad_recarga[dia]  # No recargar más de lo disponible\n",
    "    else:\n",
    "        return Constraint.Skip\n",
    "\n",
    "model.restriccion_disponibilidad_recarga = Constraint(dias_totales, rule=restriccion_disponibilidad_recarga)\n",
    "\n",
    "# Resolver el modelo\n",
    "solver = SolverFactory('glpk')\n",
    "solver.solve(model, tee=True)\n",
    "\n",
    "# Resultados\n",
    "\n",
    "\n"
   ]
  },
  {
   "cell_type": "markdown",
   "metadata": {},
   "source": [
    "## Conclusion:\n"
   ]
  },
  {
   "cell_type": "code",
   "execution_count": 2,
   "metadata": {},
   "outputs": [
    {
     "name": "stdout",
     "output_type": "stream",
     "text": [
      "Cantidad abastecida por día y si se recarga ese día:\n",
      "Lunes: Cantidad abastecida = 8.00, Recarga: Sí\n",
      "Martes: Cantidad abastecida = 56.00, Recarga: Sí\n",
      "Jueves: Cantidad abastecida = 64.00, Recarga: Sí\n"
     ]
    }
   ],
   "source": [
    "# Mostrar la cantidad abastecida y qué días se recargan\n",
    "print(\"Cantidad abastecida por día y si se recarga ese día:\")\n",
    "for d in dias:\n",
    "    cantidad = model.x[d].value\n",
    "    recarga = \"Sí\" if cantidad > 0 else \"No\"\n",
    "    print(f\"{d}: Cantidad abastecida = {cantidad:.2f}, Recarga: {recarga}\")"
   ]
  },
  {
   "cell_type": "markdown",
   "metadata": {},
   "source": [
    "Se obtuvo como resultado optimo la recarga de los 3 días de semana "
   ]
  }
 ],
 "metadata": {
  "kernelspec": {
   "display_name": "Python 3",
   "language": "python",
   "name": "python3"
  },
  "language_info": {
   "codemirror_mode": {
    "name": "ipython",
    "version": 3
   },
   "file_extension": ".py",
   "mimetype": "text/x-python",
   "name": "python",
   "nbconvert_exporter": "python",
   "pygments_lexer": "ipython3",
   "version": "3.11.9"
  }
 },
 "nbformat": 4,
 "nbformat_minor": 2
}
