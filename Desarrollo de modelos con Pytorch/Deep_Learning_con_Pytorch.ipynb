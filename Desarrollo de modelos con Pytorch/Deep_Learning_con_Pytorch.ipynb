{
  "nbformat": 4,
  "nbformat_minor": 0,
  "metadata": {
    "colab": {
      "provenance": [],
      "gpuType": "T4"
    },
    "kernelspec": {
      "name": "python3",
      "display_name": "Python 3"
    },
    "language_info": {
      "name": "python"
    },
    "accelerator": "GPU"
  },
  "cells": [
    {
      "cell_type": "markdown",
      "source": [
        "<div style=\"display: flex; align-items: center;\">\n",
        "    <h1 style=\"margin-right: 100px;\">Modelos de Deep Learning con PyTorch</h1>\n",
        "    <img src=\"https://raw.githubusercontent.com/JAIROX2004/CIMA/refs/heads/main/CIMA.jpg\" alt=\"Logo\" style=\"height: 180px;\">\n",
        "</div>"
      ],
      "metadata": {
        "id": "HAaW_tD99rtB"
      }
    },
    {
      "cell_type": "markdown",
      "source": [
        "## Introducción:\n",
        "[PyTorch](https://pytorch.org/features/) es un framework de deep learning ampliamente utilizado, conocido por su flexibilidad, facilidad de uso y capacidad para acelerar el desarrollo de modelos de aprendizaje profundo. Diseñado principalmente en Python, está estrechamente integrado con bibliotecas populares como NumPy, lo que facilita la manipulación de datos y la implementación de algoritmos complejos.\n",
        "\n",
        "**Features:**\n",
        "\n",
        "- Soporte para una amplia gama de modelos de aprendizaje profundo.\n",
        "- Compatibilidad con las principales plataformas en la nube, lo que simplifica la implementación y el escalado.\n",
        "- Habilidad para distribuir cálculos entre múltiples CPU y GPU, mejorando significativamente el rendimiento.\n",
        "- Gran adopción en la investigación académica, respaldada por una comunidad activa y recursos constantes.\n",
        "\n",
        "Fuente: [https://www.nvidia.com/en-au/glossary/pytorch/](https://www.nvidia.com/en-au/glossary/pytorch/)"
      ],
      "metadata": {
        "id": "AKs5KxSwFf1D"
      }
    },
    {
      "cell_type": "markdown",
      "source": [
        "## Objetivo:\n",
        "El objetivo de este trabajo es ofrecer una guía práctica para construir modelos de deep learning utilizando PyTorch, desarrollando como caso de estudio la clasificación de dígitos en el dataset MNIST.\n",
        "\n",
        "**Enlaces de interés:**\n",
        "- [Redes Nueronales: Definición](https://aws.amazon.com/es/what-is/neural-network/)\n",
        "- [Hyperparámetros en Redes Neuronales](https://blog.javierheras.website/hiperparametros-de-una-red-neuronal/)\n",
        "- [Descenso de Gradiente](https://www.ibm.com/mx-es/topics/gradient-descent)\n",
        "- [Backpropagation](https://www.youtube.com/watch?v=iOsR-EC9z6I)\n",
        "- [A Step by Step Backpropagation Example](https://mattmazur.com/2015/03/17/a-step-by-step-backpropagation-example/)\n",
        "- [Sesgo y Varianza](https://aprendeia.com/bias-y-varianza-en-machine-learning/)"
      ],
      "metadata": {
        "id": "Cq3ADgyILa0q"
      }
    },
    {
      "cell_type": "markdown",
      "source": [
        "## Caso: MNIST"
      ],
      "metadata": {
        "id": "oocQ_Fbsc0u0"
      }
    },
    {
      "cell_type": "markdown",
      "source": [
        "MNIST es una base de datos de imágenes de dígitos escritos a mano. Es un conjunto de datos etiquetados que combina imágenes de números con el nombre del número respectivo. Es un conjunto de datos muy conocido utilizado en la etapa de aprendizaje y experimentación.\n",
        "\n",
        "**Definiendo el Problema**\n",
        "\n",
        "- La entrada a la Red Neuronal serán imágenes en escala de gris, de tamaño 28x28, que contendrán un dígito (entre 0 y 9) escrito a mano.\n",
        "- Así que el dato predicho por la Red Neuronal será una cantidad numérica (entre 0 y 9) que debería coincidir con el dígito escrito en la imagen de entrada."
      ],
      "metadata": {
        "id": "Hfv4yS5JnrmP"
      }
    },
    {
      "cell_type": "markdown",
      "source": [
        "### Importando Dataset"
      ],
      "metadata": {
        "id": "nWBHa7IXsOHg"
      }
    },
    {
      "cell_type": "code",
      "source": [
        "import matplotlib.pyplot as plt\n",
        "\n",
        "from torchvision.datasets import MNIST\n",
        "from torchvision.transforms import ToTensor"
      ],
      "metadata": {
        "id": "y-hgqePxlJ5O"
      },
      "execution_count": 1,
      "outputs": []
    },
    {
      "cell_type": "code",
      "source": [
        "train_data = MNIST(root = 'data', train = True, download = True, transform= ToTensor())\n",
        "train_data.data.shape"
      ],
      "metadata": {
        "colab": {
          "base_uri": "https://localhost:8080/"
        },
        "collapsed": true,
        "id": "BEs6jRWblJ3v",
        "outputId": "52796517-08d1-48ad-c293-5fd2cec0633c"
      },
      "execution_count": 2,
      "outputs": [
        {
          "output_type": "stream",
          "name": "stdout",
          "text": [
            "Downloading http://yann.lecun.com/exdb/mnist/train-images-idx3-ubyte.gz\n",
            "Failed to download (trying next):\n",
            "HTTP Error 403: Forbidden\n",
            "\n",
            "Downloading https://ossci-datasets.s3.amazonaws.com/mnist/train-images-idx3-ubyte.gz\n",
            "Downloading https://ossci-datasets.s3.amazonaws.com/mnist/train-images-idx3-ubyte.gz to data/MNIST/raw/train-images-idx3-ubyte.gz\n"
          ]
        },
        {
          "output_type": "stream",
          "name": "stderr",
          "text": [
            "100%|██████████| 9.91M/9.91M [00:00<00:00, 17.6MB/s]\n"
          ]
        },
        {
          "output_type": "stream",
          "name": "stdout",
          "text": [
            "Extracting data/MNIST/raw/train-images-idx3-ubyte.gz to data/MNIST/raw\n",
            "\n",
            "Downloading http://yann.lecun.com/exdb/mnist/train-labels-idx1-ubyte.gz\n",
            "Failed to download (trying next):\n",
            "HTTP Error 403: Forbidden\n",
            "\n",
            "Downloading https://ossci-datasets.s3.amazonaws.com/mnist/train-labels-idx1-ubyte.gz\n",
            "Downloading https://ossci-datasets.s3.amazonaws.com/mnist/train-labels-idx1-ubyte.gz to data/MNIST/raw/train-labels-idx1-ubyte.gz\n"
          ]
        },
        {
          "output_type": "stream",
          "name": "stderr",
          "text": [
            "100%|██████████| 28.9k/28.9k [00:00<00:00, 508kB/s]\n"
          ]
        },
        {
          "output_type": "stream",
          "name": "stdout",
          "text": [
            "Extracting data/MNIST/raw/train-labels-idx1-ubyte.gz to data/MNIST/raw\n",
            "\n",
            "Downloading http://yann.lecun.com/exdb/mnist/t10k-images-idx3-ubyte.gz\n",
            "Failed to download (trying next):\n",
            "HTTP Error 403: Forbidden\n",
            "\n",
            "Downloading https://ossci-datasets.s3.amazonaws.com/mnist/t10k-images-idx3-ubyte.gz\n",
            "Downloading https://ossci-datasets.s3.amazonaws.com/mnist/t10k-images-idx3-ubyte.gz to data/MNIST/raw/t10k-images-idx3-ubyte.gz\n"
          ]
        },
        {
          "output_type": "stream",
          "name": "stderr",
          "text": [
            "100%|██████████| 1.65M/1.65M [00:00<00:00, 3.75MB/s]\n"
          ]
        },
        {
          "output_type": "stream",
          "name": "stdout",
          "text": [
            "Extracting data/MNIST/raw/t10k-images-idx3-ubyte.gz to data/MNIST/raw\n",
            "\n",
            "Downloading http://yann.lecun.com/exdb/mnist/t10k-labels-idx1-ubyte.gz\n",
            "Failed to download (trying next):\n",
            "HTTP Error 403: Forbidden\n",
            "\n",
            "Downloading https://ossci-datasets.s3.amazonaws.com/mnist/t10k-labels-idx1-ubyte.gz\n",
            "Downloading https://ossci-datasets.s3.amazonaws.com/mnist/t10k-labels-idx1-ubyte.gz to data/MNIST/raw/t10k-labels-idx1-ubyte.gz\n"
          ]
        },
        {
          "output_type": "stream",
          "name": "stderr",
          "text": [
            "100%|██████████| 4.54k/4.54k [00:00<00:00, 9.82MB/s]"
          ]
        },
        {
          "output_type": "stream",
          "name": "stdout",
          "text": [
            "Extracting data/MNIST/raw/t10k-labels-idx1-ubyte.gz to data/MNIST/raw\n",
            "\n"
          ]
        },
        {
          "output_type": "stream",
          "name": "stderr",
          "text": [
            "\n"
          ]
        },
        {
          "output_type": "execute_result",
          "data": {
            "text/plain": [
              "torch.Size([60000, 28, 28])"
            ]
          },
          "metadata": {},
          "execution_count": 2
        }
      ]
    },
    {
      "cell_type": "code",
      "source": [
        "figure = plt.figure(figsize=(24, 2))\n",
        "\n",
        "for i in range(9):\n",
        "    img = train_data.data[i].numpy()\n",
        "    label = train_data.targets[i].item()\n",
        "\n",
        "    plt.subplot(1, 10, i + 1)\n",
        "    plt.imshow(img, cmap = 'gray')\n",
        "    plt.title(f'{label}')\n",
        "    plt.axis('off')\n",
        "\n",
        "plt.show()"
      ],
      "metadata": {
        "colab": {
          "base_uri": "https://localhost:8080/",
          "height": 191
        },
        "id": "V3wtLYHFlJ0W",
        "outputId": "061c39e0-e356-4096-b7f4-7dce93856dcc"
      },
      "execution_count": 3,
      "outputs": [
        {
          "output_type": "display_data",
          "data": {
            "text/plain": [
              "<Figure size 2400x200 with 9 Axes>"
            ],
            "image/png": "[encoded data removed]"
          },
          "metadata": {}
        }
      ]
    },
    {
      "cell_type": "markdown",
      "source": [
        "**Dataloader:**\n",
        "- Un DataLoader en PyTorch es una herramienta que facilita el manejo de datos al entrenar modelos. Su propósito principal es dividir el conjunto de datos en lotes (o \"mini-batches\") y cargar cada lote en el modelo durante el entrenamiento o la evaluación. Esto permite procesar los datos en pequeñas porciones en lugar de cargar el conjunto completo a la vez, lo cual es más eficiente y menos demandante para la memoria.\n",
        "\n",
        "- **`batch_size` grande:**\n",
        "  - Mayor uso de memoria, gradientes más estables, entrenamiento más rápido\n",
        "  pero puede afectar la generalización.\n",
        "\n",
        "- **`batch_size` pequeño:**\n",
        "  - Menor uso de memoria, más ruido en los gradientes, mejor generalización, pero entrenamiento más lento.\n",
        "\n",
        "Una opción intermedia (como 32 o 64) suele ser un buen punto de partida en muchos casos. En general, probar diferentes tamaños y observar el rendimiento es una buena práctica, ya que el batch size óptimo puede variar según el modelo y los datos.\n",
        "\n",
        "\n"
      ],
      "metadata": {
        "id": "i9bfDzB0w7TI"
      }
    },
    {
      "cell_type": "code",
      "source": [
        "from torch.utils.data import DataLoader, random_split"
      ],
      "metadata": {
        "id": "lFqTpCab2sL5"
      },
      "execution_count": 4,
      "outputs": []
    },
    {
      "cell_type": "code",
      "source": [
        "train_size = int(0.8 * len(train_data))              # 80% para entrenamiento\n",
        "val_size = int(0.1 * len(train_data))                # 10% para validación\n",
        "test_size = len(train_data) - train_size - val_size  # 10% para prueba\n",
        "\n",
        "train_data, val_data, test_data = random_split(train_data, [train_size, val_size, test_size])\n",
        "\n",
        "train_loader = DataLoader(train_data, batch_size = 32, shuffle = True)\n",
        "val_loader = DataLoader(val_data, batch_size = 32, shuffle = False)\n",
        "test_loader = DataLoader(test_data, batch_size = 32, shuffle = False)"
      ],
      "metadata": {
        "id": "5tFnrOgrmsQm"
      },
      "execution_count": 5,
      "outputs": []
    },
    {
      "cell_type": "markdown",
      "source": [
        "En este punto, las imágenes en blanco y negro fueron convertidas a matrices, donde cada uno de los pixeles ocupa una posición en la matriz. La transformación `ToTensor()` en PyTorch convierte automáticamente los valores de los píxeles de las imágenes de 0 a 255 (escala típica en imágenes en escala de grises) a valores de punto flotante entre 0 y 1. Esto se hace dividiendo cada valor de píxel por 255.\n",
        "\n",
        "Se dividió el conjunto de datos en entrenamiento, validación y prueba, y cada uno se pasará al modelo a travez del dataloader, el cual pasará grupos de 32 imágenes para entrenar el modelo.  "
      ],
      "metadata": {
        "id": "SlfPOuWt5do_"
      }
    },
    {
      "cell_type": "markdown",
      "source": [
        "### Construcción del Modelo"
      ],
      "metadata": {
        "id": "42qk6od05R4z"
      }
    },
    {
      "cell_type": "markdown",
      "source": [
        "Para este primer caso de estudio, no utilizaremos modelos complejos con arquitecturas de capas convolucionales u otros tipos avanzados de redes neuronales. En su lugar, emplearemos un perceptrón multicapa (MLP), también conocido como red neuronal feedforward, que es un tipo de modelo básico en deep learning.\n",
        "\n",
        "Aunque el MLP no es tan efectivo como las redes convolucionales para el procesamiento de imágenes, es suficiente para nuestro propósito introductorio y nos permitirá entender los fundamentos del entrenamiento de modelos de deep learning.\n",
        "\n",
        "Para este caso se implementará un **MLP** con:\n",
        "- Una capa de entrada con 28*28 = 784 neuronas conectadas a una capa oculta con 64 neuronas.\n",
        "- La capa oculta de 64 conecada a una segunda capa oculta con 15 neuronas.\n",
        "- La capa de 15 neuronas conectada a una capa de salida con 10 neurodas, porque son 10 clases las que tenemos."
      ],
      "metadata": {
        "id": "J75vR--u9ACd"
      }
    },
    {
      "cell_type": "code",
      "source": [
        "import torch\n",
        "import torch.nn as nn\n",
        "import torch.nn.functional as F\n",
        "\n",
        "from torchsummary import summary"
      ],
      "metadata": {
        "id": "I0MEPD9AAgFL"
      },
      "execution_count": 6,
      "outputs": []
    },
    {
      "cell_type": "code",
      "source": [
        "device = 'cuda' if torch.cuda.is_available() else 'cpu'\n",
        "device"
      ],
      "metadata": {
        "colab": {
          "base_uri": "https://localhost:8080/",
          "height": 35
        },
        "id": "UguqfhgYJxAN",
        "outputId": "fe37c2dd-6b33-40d1-dc26-d78ad9ca70da"
      },
      "execution_count": 7,
      "outputs": [
        {
          "output_type": "execute_result",
          "data": {
            "text/plain": [
              "'cuda'"
            ],
            "application/vnd.google.colaboratory.intrinsic+json": {
              "type": "string"
            }
          },
          "metadata": {},
          "execution_count": 7
        }
      ]
    },
    {
      "cell_type": "code",
      "source": [
        "device = 'cuda' if torch.cuda.is_available() else 'cpu'\n",
        "\n",
        "class MLP(nn.Module):\n",
        "    def __init__(self):\n",
        "        super(MLP, self).__init__()\n",
        "        # Capa de entrada a capa oculta (784 -> 128)\n",
        "        self.fc1 = nn.Linear(28 * 28, 64)\n",
        "        # Capa oculta a capa oculta (128 -> 64)\n",
        "        self.fc2 = nn.Linear(64, 15)\n",
        "        # Capa oculta a capa de salida (64 -> 10)\n",
        "        self.fc3 = nn.Linear(15, 10)\n",
        "\n",
        "    def forward(self, x):\n",
        "        x = x.view(-1, 28 * 28)\n",
        "        x = F.relu(self.fc1(x))   # Activación ReLU después de la primera capa\n",
        "        x = F.relu(self.fc2(x))   # Activación ReLU después de la segunda capa\n",
        "        x = self.fc3(x)           # Capa de salida sin activación (se aplicará Softmax externamente si es necesario)\n",
        "        return x\n",
        "\n",
        "model = MLP()\n",
        "model.to(device)\n",
        "summary(model, input_size=(1, 28*28))"
      ],
      "metadata": {
        "colab": {
          "base_uri": "https://localhost:8080/"
        },
        "id": "10ArWpyp5WPc",
        "outputId": "09948f1b-23e1-400f-86dc-e00621898dae"
      },
      "execution_count": 8,
      "outputs": [
        {
          "output_type": "stream",
          "name": "stdout",
          "text": [
            "----------------------------------------------------------------\n",
            "        Layer (type)               Output Shape         Param #\n",
            "================================================================\n",
            "            Linear-1                   [-1, 64]          50,240\n",
            "            Linear-2                   [-1, 15]             975\n",
            "            Linear-3                   [-1, 10]             160\n",
            "================================================================\n",
            "Total params: 51,375\n",
            "Trainable params: 51,375\n",
            "Non-trainable params: 0\n",
            "----------------------------------------------------------------\n",
            "Input size (MB): 0.00\n",
            "Forward/backward pass size (MB): 0.00\n",
            "Params size (MB): 0.20\n",
            "Estimated Total Size (MB): 0.20\n",
            "----------------------------------------------------------------\n"
          ]
        }
      ]
    },
    {
      "cell_type": "markdown",
      "source": [
        "En pytorch, los modelos deben ser clases, heredadas de la clase `nn.Module` y debe contar como mínimo con 2 funciones:\n",
        "- `__init__`: Contiene la estrucutra de la red neuronal. Aquí es donde especificas las capas que tendrá el modelo, como capas totalmente conectadas, convolucionales, de activación, de normalización, entre otras.\n",
        "- `forward` : Define el flujo de datos a través de la red. En otras palabras, aquí especificas cómo deben pasar los datos a través de cada capa para producir una salida\n",
        "\n",
        "En otras palabras, se está utilizando la función \"relu\" como función de activación de la primera y segunda capa oculta, mientras que para la tercera la dejamos sin activación para aplicar luego la que creamos conveniente."
      ],
      "metadata": {
        "id": "aA6PqPc1CZDR"
      }
    },
    {
      "cell_type": "markdown",
      "source": [
        "### Funciones de Entrenamiento y Validación"
      ],
      "metadata": {
        "id": "9ZIzCUkUFlz2"
      }
    },
    {
      "cell_type": "code",
      "source": [
        "def train_model(dataloader, model, criterion, optimizer, device):\n",
        "  train_size = len(dataloader.dataset)\n",
        "  nlotes = len(dataloader)\n",
        "\n",
        "  model.train() #Indicarle a Pytorch que entrenaremos el modelo\n",
        "  loss_train, acc = 0, 0\n",
        "\n",
        "  for nlote, (images, labels) in enumerate(dataloader):\n",
        "    images, labels = images.to(device), labels.to(device)\n",
        "\n",
        "    logits = model(images) #Forward Propagation\n",
        "\n",
        "    #Backward Propagation\n",
        "    loss = criterion(logits, labels)\n",
        "    loss.backward()\n",
        "    optimizer.step()\n",
        "    optimizer.zero_grad()\n",
        "\n",
        "    loss_train = loss_train + loss.item()\n",
        "    acc = acc + (logits.argmax(1) == labels).type(torch.float).sum().item()\n",
        "\n",
        "    if nlote % 200 == 0:\n",
        "      ndatos = nlote * len(images)\n",
        "      print(f\"loss: {loss.item():>7f}  [{ndatos:>5d}/{train_size:>5d}]\")\n",
        "\n",
        "  loss_train = loss_train / nlotes #Calculamos la pérdida promedio\n",
        "  acc = acc / train_size #Calculamos el acc promedio\n",
        "\n",
        "  print(f\"\\tacc/loss average:\")\n",
        "  print(f\"\\t\\tEntrenamiento: Acc: {(100*acc):>0.4f}%\\t-\\tLoss: {loss_train:>8f}\")\n",
        "  return loss_train, acc"
      ],
      "metadata": {
        "id": "qMf1-rXe5V3F"
      },
      "execution_count": 9,
      "outputs": []
    },
    {
      "cell_type": "code",
      "source": [
        "def eval_model(dataloader, model, criterion, device):\n",
        "  val_size = len(dataloader.dataset)\n",
        "  nlotes = len(dataloader)\n",
        "\n",
        "  model.eval()\n",
        "  loss_val, acc = 0, 0\n",
        "\n",
        "  with torch.no_grad():\n",
        "    for images, labels in dataloader:\n",
        "      images, labels = images.to(device), labels.to(device)\n",
        "\n",
        "      logits = model(images) #Predicciones (Propagación hacia adelante)\n",
        "\n",
        "      loss_val = loss_val + criterion(logits, labels).item()\n",
        "      acc = acc + (logits.argmax(1) == labels).type(torch.float).sum().item()\n",
        "\n",
        "  loss_val = loss_val / nlotes #Calculamos la pérdida promedio\n",
        "  acc = acc / val_size #Calculamos el acc promedio\n",
        "\n",
        "  print(f\"\\t\\tValidación: Acc: {(100*acc):>0.4f}%\\t-\\tLoss: {loss_val:>8f}\")\n",
        "  return loss_val, acc"
      ],
      "metadata": {
        "id": "iAsVng58w0Cm"
      },
      "execution_count": 10,
      "outputs": []
    },
    {
      "cell_type": "markdown",
      "source": [
        "### Configuración y Entrenamiento del Modelo\n"
      ],
      "metadata": {
        "id": "n3h6G80qHNI9"
      }
    },
    {
      "cell_type": "code",
      "source": [
        "import torch.optim as optim"
      ],
      "metadata": {
        "id": "hgvSANxmHbcA"
      },
      "execution_count": 11,
      "outputs": []
    },
    {
      "cell_type": "code",
      "source": [
        "l_rate = 0.1\n",
        "n_epoch = 10\n",
        "\n",
        "train_losses, train_accuracies = [], []\n",
        "val_losses, val_accuracies = [], []\n",
        "\n",
        "fn_perdida = nn.CrossEntropyLoss()\n",
        "optimizador = torch.optim.SGD(model.parameters(), lr = l_rate)"
      ],
      "metadata": {
        "id": "PFUbtS1Sw0At"
      },
      "execution_count": 12,
      "outputs": []
    },
    {
      "cell_type": "markdown",
      "source": [
        "La cantidad de neuronas y capas ocultas utilizadas en el modelo, así como el learning rate, etc son hyperparámetros del modelo. Estos hyperparámetros, en este caso, fueron escogidos a criterio propio, y no representan necesariamente el mejor valor.\n",
        "\n",
        "**¿Como determinamos los mejores hyperparámetros para el mdodelo?**\n",
        "Existe una librería en python llamada \"optuna\" la cual nos ayuda a buscar los mejores valores para nuestros hyperparámetros en una región que nosotros especifiquemos. Esta librería tiene una excelente compatibilidad con pytorch."
      ],
      "metadata": {
        "id": "P1c65yKYOPS9"
      }
    },
    {
      "cell_type": "code",
      "source": [
        "for epoch in range(n_epoch):\n",
        "  print(f\"Epoch {epoch+1}\\n---------------------------------------------------------------------\")\n",
        "\n",
        "  train_loss, train_acc = train_model(train_loader, model, fn_perdida, optimizador, device)\n",
        "  train_losses.append(train_loss)\n",
        "  train_accuracies.append(train_acc)\n",
        "\n",
        "  val_loss, val_acc = eval_model(val_loader, model, fn_perdida, device)\n",
        "  val_losses.append(val_loss)\n",
        "  val_accuracies.append(val_acc)\n",
        "\n",
        "print(\"Done!\")"
      ],
      "metadata": {
        "colab": {
          "base_uri": "https://localhost:8080/"
        },
        "id": "xktSIs9lwz9g",
        "outputId": "945ce747-83a6-4902-c25b-8507ecc2598f"
      },
      "execution_count": 13,
      "outputs": [
        {
          "output_type": "stream",
          "name": "stdout",
          "text": [
            "Epoch 1\n",
            "---------------------------------------------------------------------\n",
            "loss: 2.284648  [    0/48000]\n",
            "loss: 0.728141  [ 6400/48000]\n",
            "loss: 0.554230  [12800/48000]\n",
            "loss: 0.656756  [19200/48000]\n",
            "loss: 0.383483  [25600/48000]\n",
            "loss: 0.434589  [32000/48000]\n",
            "loss: 0.265805  [38400/48000]\n",
            "loss: 0.060904  [44800/48000]\n",
            "\tacc/loss average:\n",
            "\t\tEntrenamiento: Acc: 85.1958%\t-\tLoss: 0.473007\n",
            "\t\tValidación: Acc: 93.2833%\t-\tLoss: 0.231422\n",
            "Epoch 2\n",
            "---------------------------------------------------------------------\n",
            "loss: 0.274017  [    0/48000]\n",
            "loss: 0.417896  [ 6400/48000]\n",
            "loss: 0.145319  [12800/48000]\n",
            "loss: 0.063200  [19200/48000]\n",
            "loss: 0.035240  [25600/48000]\n",
            "loss: 0.107279  [32000/48000]\n",
            "loss: 0.205343  [38400/48000]\n",
            "loss: 0.112494  [44800/48000]\n",
            "\tacc/loss average:\n",
            "\t\tEntrenamiento: Acc: 94.7042%\t-\tLoss: 0.176118\n",
            "\t\tValidación: Acc: 94.8333%\t-\tLoss: 0.169730\n",
            "Epoch 3\n",
            "---------------------------------------------------------------------\n",
            "loss: 0.121833  [    0/48000]\n",
            "loss: 0.250116  [ 6400/48000]\n",
            "loss: 0.098298  [12800/48000]\n",
            "loss: 0.193643  [19200/48000]\n",
            "loss: 0.035972  [25600/48000]\n",
            "loss: 0.050515  [32000/48000]\n",
            "loss: 0.365008  [38400/48000]\n",
            "loss: 0.190538  [44800/48000]\n",
            "\tacc/loss average:\n",
            "\t\tEntrenamiento: Acc: 96.1417%\t-\tLoss: 0.126109\n",
            "\t\tValidación: Acc: 95.9667%\t-\tLoss: 0.140857\n",
            "Epoch 4\n",
            "---------------------------------------------------------------------\n",
            "loss: 0.026550  [    0/48000]\n",
            "loss: 0.032434  [ 6400/48000]\n",
            "loss: 0.142642  [12800/48000]\n",
            "loss: 0.070983  [19200/48000]\n",
            "loss: 0.252414  [25600/48000]\n",
            "loss: 0.007020  [32000/48000]\n",
            "loss: 0.020373  [38400/48000]\n",
            "loss: 0.149747  [44800/48000]\n",
            "\tacc/loss average:\n",
            "\t\tEntrenamiento: Acc: 96.9750%\t-\tLoss: 0.101440\n",
            "\t\tValidación: Acc: 95.6500%\t-\tLoss: 0.150288\n",
            "Epoch 5\n",
            "---------------------------------------------------------------------\n",
            "loss: 0.037858  [    0/48000]\n",
            "loss: 0.133337  [ 6400/48000]\n",
            "loss: 0.033804  [12800/48000]\n",
            "loss: 0.016050  [19200/48000]\n",
            "loss: 0.322676  [25600/48000]\n",
            "loss: 0.006812  [32000/48000]\n",
            "loss: 0.160524  [38400/48000]\n",
            "loss: 0.078843  [44800/48000]\n",
            "\tacc/loss average:\n",
            "\t\tEntrenamiento: Acc: 97.3604%\t-\tLoss: 0.084779\n",
            "\t\tValidación: Acc: 96.4500%\t-\tLoss: 0.129063\n",
            "Epoch 6\n",
            "---------------------------------------------------------------------\n",
            "loss: 0.179504  [    0/48000]\n",
            "loss: 0.023526  [ 6400/48000]\n",
            "loss: 0.084019  [12800/48000]\n",
            "loss: 0.012077  [19200/48000]\n",
            "loss: 0.116956  [25600/48000]\n",
            "loss: 0.024867  [32000/48000]\n",
            "loss: 0.060559  [38400/48000]\n",
            "loss: 0.095382  [44800/48000]\n",
            "\tacc/loss average:\n",
            "\t\tEntrenamiento: Acc: 97.6667%\t-\tLoss: 0.073053\n",
            "\t\tValidación: Acc: 96.9333%\t-\tLoss: 0.118041\n",
            "Epoch 7\n",
            "---------------------------------------------------------------------\n",
            "loss: 0.092091  [    0/48000]\n",
            "loss: 0.017140  [ 6400/48000]\n",
            "loss: 0.083927  [12800/48000]\n",
            "loss: 0.034854  [19200/48000]\n",
            "loss: 0.047232  [25600/48000]\n",
            "loss: 0.020868  [32000/48000]\n",
            "loss: 0.019390  [38400/48000]\n",
            "loss: 0.326159  [44800/48000]\n",
            "\tacc/loss average:\n",
            "\t\tEntrenamiento: Acc: 97.9625%\t-\tLoss: 0.064788\n",
            "\t\tValidación: Acc: 96.3000%\t-\tLoss: 0.125940\n",
            "Epoch 8\n",
            "---------------------------------------------------------------------\n",
            "loss: 0.009830  [    0/48000]\n",
            "loss: 0.010079  [ 6400/48000]\n",
            "loss: 0.008255  [12800/48000]\n",
            "loss: 0.019294  [19200/48000]\n",
            "loss: 0.088265  [25600/48000]\n",
            "loss: 0.190689  [32000/48000]\n",
            "loss: 0.039953  [38400/48000]\n",
            "loss: 0.004588  [44800/48000]\n",
            "\tacc/loss average:\n",
            "\t\tEntrenamiento: Acc: 98.2083%\t-\tLoss: 0.056834\n",
            "\t\tValidación: Acc: 96.5000%\t-\tLoss: 0.132851\n",
            "Epoch 9\n",
            "---------------------------------------------------------------------\n",
            "loss: 0.017338  [    0/48000]\n",
            "loss: 0.117179  [ 6400/48000]\n",
            "loss: 0.011141  [12800/48000]\n",
            "loss: 0.013334  [19200/48000]\n",
            "loss: 0.162751  [25600/48000]\n",
            "loss: 0.018632  [32000/48000]\n",
            "loss: 0.004913  [38400/48000]\n",
            "loss: 0.023597  [44800/48000]\n",
            "\tacc/loss average:\n",
            "\t\tEntrenamiento: Acc: 98.4062%\t-\tLoss: 0.049234\n",
            "\t\tValidación: Acc: 97.0667%\t-\tLoss: 0.112854\n",
            "Epoch 10\n",
            "---------------------------------------------------------------------\n",
            "loss: 0.010496  [    0/48000]\n",
            "loss: 0.022836  [ 6400/48000]\n",
            "loss: 0.005858  [12800/48000]\n",
            "loss: 0.064629  [19200/48000]\n",
            "loss: 0.014721  [25600/48000]\n",
            "loss: 0.003275  [32000/48000]\n",
            "loss: 0.036404  [38400/48000]\n",
            "loss: 0.007564  [44800/48000]\n",
            "\tacc/loss average:\n",
            "\t\tEntrenamiento: Acc: 98.6354%\t-\tLoss: 0.042790\n",
            "\t\tValidación: Acc: 96.8000%\t-\tLoss: 0.126285\n",
            "Done!\n"
          ]
        }
      ]
    },
    {
      "cell_type": "markdown",
      "source": [
        "Después de hacer una predicción, el modelo compara la salida con la etiqueta correcta y calcula la pérdida (error). Backpropagation calcula cómo este error cambia con respecto a cada peso en el modelo y \"retropropaga\" estos gradientes a través de las capas. Esto permite que el modelo \"aprenda\" de sus errores.\n",
        "\n",
        "En cada iteración, los pesos se ajustan en la dirección opuesta al gradiente de la pérdida, usando una pequeña cantidad llamada learning rate. Esto mueve al modelo más cerca del mínimo de la función de pérdida."
      ],
      "metadata": {
        "id": "IpBO7K1AMdAn"
      }
    },
    {
      "cell_type": "code",
      "source": [
        "epochs_range = range(1, n_epoch + 1)\n",
        "\n",
        "plt.figure(figsize=(20, 4))\n",
        "\n",
        "plt.subplot(1, 2, 1)\n",
        "plt.plot(epochs_range, train_losses, label='Pérdida de Entrenamiento')\n",
        "plt.plot(epochs_range, val_losses, label='Pérdida de Validación')\n",
        "plt.xlabel('Épocas')\n",
        "plt.ylabel('Pérdida')\n",
        "plt.title('Pérdida durante el Entrenamiento y Validación')\n",
        "plt.legend()\n",
        "\n",
        "plt.subplot(1, 2, 2)\n",
        "plt.plot(epochs_range, train_accuracies, label='Precisión de Entrenamiento')\n",
        "plt.plot(epochs_range, val_accuracies, label='Precisión de Validación')\n",
        "plt.xlabel('Épocas')\n",
        "plt.ylabel('Precisión')\n",
        "plt.title('Precisión durante el Entrenamiento y Validación')\n",
        "plt.legend()\n",
        "\n",
        "plt.show()"
      ],
      "metadata": {
        "colab": {
          "base_uri": "https://localhost:8080/",
          "height": 382
        },
        "id": "s3z6d8DA9oCe",
        "outputId": "a9c82e35-8965-4716-b75b-38bab26db204"
      },
      "execution_count": 14,
      "outputs": [
        {
          "output_type": "display_data",
          "data": {
            "text/plain": [
              "<Figure size 2000x400 with 2 Axes>"
            ],
            "image/png": "[encoded data removed]"
          },
          "metadata": {}
        }
      ]
    },
    {
      "cell_type": "markdown",
      "source": [
        "### Conclusiones\n",
        "- Usar SGD con un learning rate de 0.1 parece efectivo para este modelo, ya que muestra una buena capacidad de aprendizaje.\n",
        "\n",
        "- El comportamiento observado en los datos de validación (ligera estabilización/incremento en la pérdida) sugiere que podrías experimentar con técnicas como regularización (dropout, L2) o ajuste de hiperparámetros para mejorar la generalización.\n",
        "\n",
        "- En general, el modelo está funcionando bien, con una alta precisión tanto en entrenamiento como en validación, lo que demuestra que tu configuración inicial es adecuada. Sin embargo, es importante monitorear el posible sobreajuste en aplicaciones prácticas."
      ],
      "metadata": {
        "id": "mMei9bP1EwRG"
      }
    },
    {
      "cell_type": "markdown",
      "source": [
        "### Próximos Pasos:"
      ],
      "metadata": {
        "id": "iksZE7QGM2Kl"
      }
    },
    {
      "cell_type": "markdown",
      "source": [
        "Este proyecto ha sido una introducción al deep learning usando un perceptrón multicapa. Para mejorar el rendimiento y explorar aplicaciones más complejas, se recomienda:\n",
        "- Usar Capas Convolucionales.\n",
        "- Probar Modelos Preentrenados como ResNet o EfficientNet\n",
        "- Aplicar Técnicas de Regularización: Dropout y batch normalization para tratar el sobreajuste.\n"
      ],
      "metadata": {
        "id": "-z2cwG8ANGmo"
      }
    }
  ]
}